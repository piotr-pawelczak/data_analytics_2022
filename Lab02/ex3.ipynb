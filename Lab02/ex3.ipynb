{
 "cells": [
  {
   "cell_type": "code",
   "execution_count": 2,
   "metadata": {},
   "outputs": [],
   "source": [
    "import cmdstanpy\n",
    "import pandas as pd\n",
    "import matplotlib.pyplot as plt"
   ]
  },
  {
   "cell_type": "code",
   "execution_count": 3,
   "metadata": {},
   "outputs": [
    {
     "name": "stderr",
     "output_type": "stream",
     "text": [
      "INFO:cmdstanpy:compiling stan file C:\\Users\\piotr\\Desktop\\ISZ\\Semestr 1\\data_analytics_2022\\code_4.stan to exe file C:\\Users\\piotr\\Desktop\\ISZ\\Semestr 1\\data_analytics_2022\\code_4.exe\n",
      "INFO:cmdstanpy:compiled model executable: C:\\Users\\piotr\\Desktop\\ISZ\\Semestr 1\\data_analytics_2022\\code_4.exe\n",
      "INFO:cmdstanpy:created output directory: C:\\Users\\piotr\\Desktop\\ISZ\\Semestr 1\\data_analytics_2022\\samples\n",
      "INFO:cmdstanpy:CmdStan start processing\n",
      "chain 1 |\u001b[33m          \u001b[0m| 00:00 Status\n",
      "\u001b[A\n",
      "\n",
      "chain 1 |\u001b[33m▉         \u001b[0m| 00:00 Iteration:  500 / 7000 [  7%]  (Warmup)\n",
      "\u001b[A\n",
      "\n",
      "chain 1 |\u001b[34m███▎      \u001b[0m| 00:00 Iteration: 2100 / 7000 [ 30%]  (Sampling)\n",
      "\u001b[A\n",
      "\n",
      "chain 1 |\u001b[34m█████▏    \u001b[0m| 00:00 Iteration: 3400 / 7000 [ 48%]  (Sampling)\n",
      "\u001b[A\n",
      "\n",
      "chain 1 |\u001b[34m██████▉   \u001b[0m| 00:00 Iteration: 4700 / 7000 [ 67%]  (Sampling)\n",
      "\u001b[A\n",
      "\n",
      "chain 1 |\u001b[34m████████▊ \u001b[0m| 00:00 Iteration: 6000 / 7000 [ 85%]  (Sampling)\n",
      "\u001b[A\n",
      "\n",
      "\u001b[A\u001b[A\n",
      "chain 1 |\u001b[34m██████████\u001b[0m| 00:00 Sampling completed                       \n",
      "chain 2 |\u001b[34m██████████\u001b[0m| 00:00 Sampling completed                       \n",
      "chain 3 |\u001b[34m██████████\u001b[0m| 00:00 Sampling completed                       \n",
      "chain 4 |\u001b[34m██████████\u001b[0m| 00:00 Sampling completed                       "
     ]
    },
    {
     "name": "stdout",
     "output_type": "stream",
     "text": [
      "                                                                                                                                                                                                                                                                                                                                "
     ]
    },
    {
     "name": "stderr",
     "output_type": "stream",
     "text": [
      "\n",
      "INFO:cmdstanpy:CmdStan done processing.\n"
     ]
    },
    {
     "name": "stdout",
     "output_type": "stream",
     "text": [
      "\n"
     ]
    },
    {
     "data": {
      "text/plain": [
       "\"Processing csv files: C:\\\\Users\\\\piotr\\\\Desktop\\\\ISZ\\\\Semestr 1\\\\data_analytics_2022\\\\samples\\\\code_4-20220309115332_1.csv, C:\\\\Users\\\\piotr\\\\Desktop\\\\ISZ\\\\Semestr 1\\\\data_analytics_2022\\\\samples\\\\code_4-20220309115332_2.csv, C:\\\\Users\\\\piotr\\\\Desktop\\\\ISZ\\\\Semestr 1\\\\data_analytics_2022\\\\samples\\\\code_4-20220309115332_3.csv, C:\\\\Users\\\\piotr\\\\Desktop\\\\ISZ\\\\Semestr 1\\\\data_analytics_2022\\\\samples\\\\code_4-20220309115332_4.csv\\n\\nChecking sampler transitions treedepth.\\nTreedepth satisfactory for all transitions.\\n\\nChecking sampler transitions for divergences.\\n8638 of 24000 (35.99%) transitions ended with a divergence.\\nThese divergent transitions indicate that HMC is not fully able to explore the posterior distribution.\\nTry increasing adapt delta closer to 1.\\nIf this doesn't remove all divergences, try to reparameterize the model.\\n\\nChecking E-BFMI - sampler transitions HMC potential energy.\\nE-BFMI satisfactory.\\n\\nEffective sample size satisfactory.\\n\\nSplit R-hat values satisfactory all parameters.\\n\\nProcessing complete.\\n\""
      ]
     },
     "execution_count": 3,
     "metadata": {},
     "output_type": "execute_result"
    }
   ],
   "source": [
    "model_gm1 = cmdstanpy.CmdStanModel(stan_file='code_4.stan')\n",
    "out_gamma1 = model_gm1.sample(output_dir='samples',iter_sampling=6000,iter_warmup=1000, seed=4838282)"
   ]
  },
  {
   "cell_type": "code",
   "execution_count": 4,
   "metadata": {},
   "outputs": [
    {
     "data": {
      "text/plain": [
       "\"Processing csv files: C:\\\\Users\\\\piotr\\\\Desktop\\\\ISZ\\\\Semestr 1\\\\data_analytics_2022\\\\samples\\\\code_4-20220309115332_1.csv, C:\\\\Users\\\\piotr\\\\Desktop\\\\ISZ\\\\Semestr 1\\\\data_analytics_2022\\\\samples\\\\code_4-20220309115332_2.csv, C:\\\\Users\\\\piotr\\\\Desktop\\\\ISZ\\\\Semestr 1\\\\data_analytics_2022\\\\samples\\\\code_4-20220309115332_3.csv, C:\\\\Users\\\\piotr\\\\Desktop\\\\ISZ\\\\Semestr 1\\\\data_analytics_2022\\\\samples\\\\code_4-20220309115332_4.csv\\n\\nChecking sampler transitions treedepth.\\nTreedepth satisfactory for all transitions.\\n\\nChecking sampler transitions for divergences.\\n8638 of 24000 (35.99%) transitions ended with a divergence.\\nThese divergent transitions indicate that HMC is not fully able to explore the posterior distribution.\\nTry increasing adapt delta closer to 1.\\nIf this doesn't remove all divergences, try to reparameterize the model.\\n\\nChecking E-BFMI - sampler transitions HMC potential energy.\\nE-BFMI satisfactory.\\n\\nEffective sample size satisfactory.\\n\\nSplit R-hat values satisfactory all parameters.\\n\\nProcessing complete.\\n\""
      ]
     },
     "execution_count": 4,
     "metadata": {},
     "output_type": "execute_result"
    }
   ],
   "source": [
    "out_gamma1.diagnose()"
   ]
  },
  {
   "cell_type": "code",
   "execution_count": 5,
   "metadata": {},
   "outputs": [
    {
     "name": "stderr",
     "output_type": "stream",
     "text": [
      "INFO:cmdstanpy:compiling stan file C:\\Users\\piotr\\Desktop\\ISZ\\Semestr 1\\data_analytics_2022\\code_5.stan to exe file C:\\Users\\piotr\\Desktop\\ISZ\\Semestr 1\\data_analytics_2022\\code_5.exe\n",
      "INFO:cmdstanpy:compiled model executable: C:\\Users\\piotr\\Desktop\\ISZ\\Semestr 1\\data_analytics_2022\\code_5.exe\n",
      "INFO:cmdstanpy:created output directory: C:\\Users\\piotr\\Desktop\\ISZ\\Semestr 1\\data_analytics_2022\\samples_2\n",
      "INFO:cmdstanpy:CmdStan start processing\n",
      "chain 1 |\u001b[33m          \u001b[0m| 00:00 Status\n",
      "\u001b[A\n",
      "\n",
      "chain 1 |\u001b[33m▏         \u001b[0m| 00:00 Status\n",
      "\n",
      "\u001b[A\u001b[A\n",
      "chain 1 |\u001b[34m███▏      \u001b[0m| 00:00 Iteration: 2000 / 7000 [ 28%]  (Sampling)\n",
      "\n",
      "\u001b[A\u001b[A\n",
      "chain 1 |\u001b[34m█████▌    \u001b[0m| 00:00 Iteration: 3700 / 7000 [ 52%]  (Sampling)\n",
      "\n",
      "\u001b[A\u001b[A\n",
      "chain 1 |\u001b[34m███████▋  \u001b[0m| 00:00 Iteration: 5200 / 7000 [ 74%]  (Sampling)\n",
      "\n",
      "\u001b[A\u001b[A\n",
      "chain 1 |\u001b[34m█████████▋\u001b[0m| 00:00 Iteration: 6700 / 7000 [ 95%]  (Sampling)\n",
      "\n",
      "chain 1 |\u001b[34m██████████\u001b[0m| 00:00 Sampling completed                       \n",
      "chain 2 |\u001b[34m██████████\u001b[0m| 00:00 Sampling completed                       \n",
      "chain 3 |\u001b[34m██████████\u001b[0m| 00:00 Sampling completed                       \n",
      "chain 4 |\u001b[34m██████████\u001b[0m| 00:00 Sampling completed                       "
     ]
    },
    {
     "name": "stdout",
     "output_type": "stream",
     "text": [
      "                                                                                                                                                                                                                                                                                                                                "
     ]
    },
    {
     "name": "stderr",
     "output_type": "stream",
     "text": [
      "\n",
      "INFO:cmdstanpy:CmdStan done processing.\n"
     ]
    },
    {
     "name": "stdout",
     "output_type": "stream",
     "text": [
      "\n"
     ]
    }
   ],
   "source": [
    "model_gm2 = cmdstanpy.CmdStanModel(stan_file='code_5.stan')\n",
    "out_gamma2 = model_gm2.sample(output_dir='samples_2',iter_sampling=6000,iter_warmup=1000, seed=4838282)"
   ]
  },
  {
   "cell_type": "code",
   "execution_count": 10,
   "metadata": {},
   "outputs": [
    {
     "name": "stdout",
     "output_type": "stream",
     "text": [
      "Diagnose gamma_1\n",
      "Processing csv files: C:\\Users\\piotr\\Desktop\\ISZ\\Semestr 1\\data_analytics_2022\\samples\\code_4-20220309115332_1.csv, C:\\Users\\piotr\\Desktop\\ISZ\\Semestr 1\\data_analytics_2022\\samples\\code_4-20220309115332_2.csv, C:\\Users\\piotr\\Desktop\\ISZ\\Semestr 1\\data_analytics_2022\\samples\\code_4-20220309115332_3.csv, C:\\Users\\piotr\\Desktop\\ISZ\\Semestr 1\\data_analytics_2022\\samples\\code_4-20220309115332_4.csv\n",
      "\n",
      "Checking sampler transitions treedepth.\n",
      "Treedepth satisfactory for all transitions.\n",
      "\n",
      "Checking sampler transitions for divergences.\n",
      "8638 of 24000 (35.99%) transitions ended with a divergence.\n",
      "These divergent transitions indicate that HMC is not fully able to explore the posterior distribution.\n",
      "Try increasing adapt delta closer to 1.\n",
      "If this doesn't remove all divergences, try to reparameterize the model.\n",
      "\n",
      "Checking E-BFMI - sampler transitions HMC potential energy.\n",
      "E-BFMI satisfactory.\n",
      "\n",
      "Effective sample size satisfactory.\n",
      "\n",
      "Split R-hat values satisfactory all parameters.\n",
      "\n",
      "Processing complete.\n",
      "\n"
     ]
    }
   ],
   "source": [
    "print('Diagnose gamma_1')\n",
    "print(out_gamma1.diagnose())"
   ]
  },
  {
   "cell_type": "code",
   "execution_count": 11,
   "metadata": {},
   "outputs": [
    {
     "name": "stdout",
     "output_type": "stream",
     "text": [
      "Diagnose gamma_2\n",
      "Processing csv files: C:\\Users\\piotr\\Desktop\\ISZ\\Semestr 1\\data_analytics_2022\\samples_2\\code_5-20220309115833_1.csv, C:\\Users\\piotr\\Desktop\\ISZ\\Semestr 1\\data_analytics_2022\\samples_2\\code_5-20220309115833_2.csv, C:\\Users\\piotr\\Desktop\\ISZ\\Semestr 1\\data_analytics_2022\\samples_2\\code_5-20220309115833_3.csv, C:\\Users\\piotr\\Desktop\\ISZ\\Semestr 1\\data_analytics_2022\\samples_2\\code_5-20220309115833_4.csv\n",
      "\n",
      "Checking sampler transitions treedepth.\n",
      "Treedepth satisfactory for all transitions.\n",
      "\n",
      "Checking sampler transitions for divergences.\n",
      "1 of 24000 (0.00%) transitions ended with a divergence.\n",
      "These divergent transitions indicate that HMC is not fully able to explore the posterior distribution.\n",
      "Try increasing adapt delta closer to 1.\n",
      "If this doesn't remove all divergences, try to reparameterize the model.\n",
      "\n",
      "Checking E-BFMI - sampler transitions HMC potential energy.\n",
      "E-BFMI satisfactory.\n",
      "\n",
      "Effective sample size satisfactory.\n",
      "\n",
      "Split R-hat values satisfactory all parameters.\n",
      "\n",
      "Processing complete.\n",
      "\n"
     ]
    }
   ],
   "source": [
    "print('Diagnose gamma_2')\n",
    "print(out_gamma2.diagnose())"
   ]
  },
  {
   "cell_type": "code",
   "execution_count": 12,
   "metadata": {},
   "outputs": [
    {
     "data": {
      "image/png": "[encoded data removed]",
      "text/plain": [
       "<Figure size 432x288 with 1 Axes>"
      ]
     },
     "metadata": {
      "needs_background": "light"
     },
     "output_type": "display_data"
    }
   ],
   "source": [
    "import numpy as np\n",
    "import scipy.stats as stats\n",
    "\n",
    "\n",
    "N=500\n",
    "xs = np.linspace(0,8,N)\n",
    "pdfs = stats.gamma.pdf(xs, 1.25, scale = 1 / 1.25) \n",
    "\n",
    "plt.plot(xs, pdfs, linewidth=2)\n",
    "\n",
    "## add histogram of theta samples with 160 bins\n",
    "\n",
    "plt.gca().set_xlabel(\"theta\")\n",
    "plt.gca().set_ylabel(\"Probability Density Function\")\n",
    "plt.show()"
   ]
  },
  {
   "cell_type": "code",
   "execution_count": 14,
   "metadata": {},
   "outputs": [
    {
     "data": {
      "image/png": "[encoded data removed]",
      "text/plain": [
       "<Figure size 432x288 with 1 Axes>"
      ]
     },
     "metadata": {
      "needs_background": "light"
     },
     "output_type": "display_data"
    }
   ],
   "source": [
    "plt.hist(pdfs, bins=160)\n",
    "plt.show()"
   ]
  }
 ],
 "metadata": {
  "interpreter": {
   "hash": "4c73986fee8082bc4a691e5d68216c80804a16ab427e4492e466f381218db108"
  },
  "kernelspec": {
   "display_name": "Python 3.9.0 ('data_env')",
   "language": "python",
   "name": "python3"
  },
  "language_info": {
   "codemirror_mode": {
    "name": "ipython",
    "version": 3
   },
   "file_extension": ".py",
   "mimetype": "text/x-python",
   "name": "python",
   "nbconvert_exporter": "python",
   "pygments_lexer": "ipython3",
   "version": "3.9.0"
  },
  "orig_nbformat": 4
 },
 "nbformat": 4,
 "nbformat_minor": 2
}
