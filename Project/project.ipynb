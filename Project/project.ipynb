{
 "cells": [
  {
   "cell_type": "markdown",
   "metadata": {},
   "source": [
    "## Data Analytics final project <br>\n",
    "Authors: Piotr Pawełczak, Mateusz Pilecki"
   ]
  },
  {
   "cell_type": "markdown",
   "metadata": {},
   "source": [
    "## Project formulation <br>\n",
    "[Pecio]\n",
    "-is the problem clearly stated [1 pt] <br>\n",
    "-what is the point of creating model, are potential use cases defined [1 pt] <br>"
   ]
  },
  {
   "cell_type": "markdown",
   "metadata": {},
   "source": [
    "## Data import and preprocessing"
   ]
  },
  {
   "cell_type": "markdown",
   "metadata": {},
   "source": [
    "Dataset comes from https://www.kaggle.com/datasets/beksultankarimov/warsaw-flat-rent-prices. <br>\n",
    "In the link there is data collected by person, who lives in Warsaw and wanted to rent a flat. <br>\n",
    "Source of the data is page www.otodom.pl"
   ]
  },
  {
   "cell_type": "code",
   "execution_count": 1,
   "metadata": {},
   "outputs": [],
   "source": [
    "# Import libraries to handle data\n",
    "import pandas as pd\n",
    "import arviz as az\n",
    "from cmdstanpy import CmdStanModel\n",
    "import numpy as np\n",
    "import matplotlib.pyplot as plt\n",
    "from DA_tools.DA_colors import *\n",
    "from DA_tools.DA_tools import ribbon_plot"
   ]
  },
  {
   "cell_type": "code",
   "execution_count": 2,
   "metadata": {},
   "outputs": [
    {
     "data": {
      "text/plain": [
       "Index(['web-scraper-order', 'web-scraper-start-url', 'offer_url',\n",
       "       'offer_url-href', 'location', 'net_price', 'deposit', 'area',\n",
       "       'room_num', 'build_type', 'floor', 'total_floor', 'build_mat',\n",
       "       'windows', 'heating', 'year_built', 'status', 'agd', 'security',\n",
       "       'add_info', 'rest_info', 'offer_ID', 'next_pagination',\n",
       "       'next_pagination-href', 'add_cost', 'offer_last_update', 'second_page',\n",
       "       'second_page-href', 'third_page', 'third_page-href'],\n",
       "      dtype='object')"
      ]
     },
     "execution_count": 2,
     "metadata": {},
     "output_type": "execute_result"
    }
   ],
   "source": [
    "# Load and visualizate data\n",
    "raw_data = pd.read_csv('otodom_complete.csv')\n",
    "raw_data.columns"
   ]
  },
  {
   "cell_type": "code",
   "execution_count": 3,
   "metadata": {},
   "outputs": [
    {
     "data": {
      "text/html": [
       "<div>\n",
       "<style scoped>\n",
       "    .dataframe tbody tr th:only-of-type {\n",
       "        vertical-align: middle;\n",
       "    }\n",
       "\n",
       "    .dataframe tbody tr th {\n",
       "        vertical-align: top;\n",
       "    }\n",
       "\n",
       "    .dataframe thead th {\n",
       "        text-align: right;\n",
       "    }\n",
       "</style>\n",
       "<table border=\"1\" class=\"dataframe\">\n",
       "  <thead>\n",
       "    <tr style=\"text-align: right;\">\n",
       "      <th></th>\n",
       "      <th>web-scraper-order</th>\n",
       "      <th>web-scraper-start-url</th>\n",
       "      <th>offer_url</th>\n",
       "      <th>offer_url-href</th>\n",
       "      <th>location</th>\n",
       "      <th>net_price</th>\n",
       "      <th>deposit</th>\n",
       "      <th>area</th>\n",
       "      <th>room_num</th>\n",
       "      <th>build_type</th>\n",
       "      <th>...</th>\n",
       "      <th>rest_info</th>\n",
       "      <th>offer_ID</th>\n",
       "      <th>next_pagination</th>\n",
       "      <th>next_pagination-href</th>\n",
       "      <th>add_cost</th>\n",
       "      <th>offer_last_update</th>\n",
       "      <th>second_page</th>\n",
       "      <th>second_page-href</th>\n",
       "      <th>third_page</th>\n",
       "      <th>third_page-href</th>\n",
       "    </tr>\n",
       "  </thead>\n",
       "  <tbody>\n",
       "    <tr>\n",
       "      <th>0</th>\n",
       "      <td>1612265907-2487</td>\n",
       "      <td>https://www.otodom.pl/wynajem/mieszkanie/warsz...</td>\n",
       "      <td>37 m²\\n                    \\n                 ...</td>\n",
       "      <td>https://www.otodom.pl/pl/oferta/wynajme-od-zar...</td>\n",
       "      <td>Warszawa, Włochy, ul. 1 Sierpnia</td>\n",
       "      <td>2 100 zł</td>\n",
       "      <td>Kaucja:2 100 zł</td>\n",
       "      <td>Powierzchnia:37 m²</td>\n",
       "      <td>Liczba pokoi:2</td>\n",
       "      <td>NaN</td>\n",
       "      <td>...</td>\n",
       "      <td>klimatyzacja</td>\n",
       "      <td>Nr oferty w Otodom: 61451923</td>\n",
       "      <td>NaN</td>\n",
       "      <td>https://www.otodom.pl/wynajem/mieszkanie/warsz...</td>\n",
       "      <td>NaN</td>\n",
       "      <td>Data aktualizacji: 3 dni temu</td>\n",
       "      <td>NaN</td>\n",
       "      <td>NaN</td>\n",
       "      <td>NaN</td>\n",
       "      <td>NaN</td>\n",
       "    </tr>\n",
       "    <tr>\n",
       "      <th>1</th>\n",
       "      <td>1612264314-1965</td>\n",
       "      <td>https://www.otodom.pl/wynajem/mieszkanie/warsz...</td>\n",
       "      <td>38 m²\\n                    \\n                 ...</td>\n",
       "      <td>https://www.otodom.pl/pl/oferta/2-pokoje-tanio...</td>\n",
       "      <td>Warszawa, Mokotów, ul. Suwak 11</td>\n",
       "      <td>1 825 zł</td>\n",
       "      <td>Kaucja:3 400 zł</td>\n",
       "      <td>Powierzchnia:38 m²</td>\n",
       "      <td>Liczba pokoi:2</td>\n",
       "      <td>Rodzaj zabudowy:blok</td>\n",
       "      <td>...</td>\n",
       "      <td>garaż/miejsce parkingowewindapom. użytkowe</td>\n",
       "      <td>Nr oferty w Otodom: 61405987</td>\n",
       "      <td>NaN</td>\n",
       "      <td>https://www.otodom.pl/wynajem/mieszkanie/warsz...</td>\n",
       "      <td>Czynsz - dodatkowo:350 zł</td>\n",
       "      <td>Data aktualizacji: 2 dni temu</td>\n",
       "      <td>NaN</td>\n",
       "      <td>NaN</td>\n",
       "      <td>NaN</td>\n",
       "      <td>NaN</td>\n",
       "    </tr>\n",
       "    <tr>\n",
       "      <th>2</th>\n",
       "      <td>1612263242-1616</td>\n",
       "      <td>https://www.otodom.pl/wynajem/mieszkanie/warsz...</td>\n",
       "      <td>57 m²\\n                    \\n                 ...</td>\n",
       "      <td>https://www.otodom.pl/pl/oferta/wynajme-mieszk...</td>\n",
       "      <td>Warszawa, Bielany, ul. Kwitnąca</td>\n",
       "      <td>3 300 zł</td>\n",
       "      <td>Kaucja:3 300 zł</td>\n",
       "      <td>Powierzchnia:57 m²</td>\n",
       "      <td>Liczba pokoi:3</td>\n",
       "      <td>Rodzaj zabudowy:blok</td>\n",
       "      <td>...</td>\n",
       "      <td>balkontylko dla niepalącychoddzielna kuchnia</td>\n",
       "      <td>Nr oferty w Otodom: 61375474</td>\n",
       "      <td>NaN</td>\n",
       "      <td>https://www.otodom.pl/wynajem/mieszkanie/warsz...</td>\n",
       "      <td>Czynsz - dodatkowo:1 zł</td>\n",
       "      <td>Data aktualizacji: 22 dni temu</td>\n",
       "      <td>NaN</td>\n",
       "      <td>NaN</td>\n",
       "      <td>NaN</td>\n",
       "      <td>NaN</td>\n",
       "    </tr>\n",
       "    <tr>\n",
       "      <th>3</th>\n",
       "      <td>1612265477-2346</td>\n",
       "      <td>https://www.otodom.pl/wynajem/mieszkanie/warsz...</td>\n",
       "      <td>63 m²\\n                    \\n                 ...</td>\n",
       "      <td>https://www.otodom.pl/pl/oferta/zielone-zacisz...</td>\n",
       "      <td>Warszawa, Targówek, ul. św. Wincentego</td>\n",
       "      <td>2 200 zł</td>\n",
       "      <td>NaN</td>\n",
       "      <td>Powierzchnia:63 m²</td>\n",
       "      <td>Liczba pokoi:2</td>\n",
       "      <td>Rodzaj zabudowy:blok</td>\n",
       "      <td>...</td>\n",
       "      <td>NaN</td>\n",
       "      <td>Nr oferty w Otodom: 61439492</td>\n",
       "      <td>NaN</td>\n",
       "      <td>https://www.otodom.pl/wynajem/mieszkanie/warsz...</td>\n",
       "      <td>NaN</td>\n",
       "      <td>Data aktualizacji: 5 dni temu</td>\n",
       "      <td>NaN</td>\n",
       "      <td>NaN</td>\n",
       "      <td>NaN</td>\n",
       "      <td>NaN</td>\n",
       "    </tr>\n",
       "    <tr>\n",
       "      <th>4</th>\n",
       "      <td>1612266187-2579</td>\n",
       "      <td>https://www.otodom.pl/wynajem/mieszkanie/warsz...</td>\n",
       "      <td>65 m²\\n                    \\n                 ...</td>\n",
       "      <td>https://www.otodom.pl/pl/oferta/eleganckie-mie...</td>\n",
       "      <td>Warszawa, Ochota, Stara Ochota, ul. Juliana Ur...</td>\n",
       "      <td>3 000 zł</td>\n",
       "      <td>Kaucja:3 000 zł</td>\n",
       "      <td>Powierzchnia:65 m²</td>\n",
       "      <td>Liczba pokoi:3</td>\n",
       "      <td>Rodzaj zabudowy:kamienica</td>\n",
       "      <td>...</td>\n",
       "      <td>NaN</td>\n",
       "      <td>Nr oferty w Otodom: 61455072</td>\n",
       "      <td>NaN</td>\n",
       "      <td>NaN</td>\n",
       "      <td>NaN</td>\n",
       "      <td>Data aktualizacji: 2 dni temu</td>\n",
       "      <td>NaN</td>\n",
       "      <td>NaN</td>\n",
       "      <td>NaN</td>\n",
       "      <td>NaN</td>\n",
       "    </tr>\n",
       "  </tbody>\n",
       "</table>\n",
       "<p>5 rows × 30 columns</p>\n",
       "</div>"
      ],
      "text/plain": [
       "  web-scraper-order                              web-scraper-start-url  \\\n",
       "0   1612265907-2487  https://www.otodom.pl/wynajem/mieszkanie/warsz...   \n",
       "1   1612264314-1965  https://www.otodom.pl/wynajem/mieszkanie/warsz...   \n",
       "2   1612263242-1616  https://www.otodom.pl/wynajem/mieszkanie/warsz...   \n",
       "3   1612265477-2346  https://www.otodom.pl/wynajem/mieszkanie/warsz...   \n",
       "4   1612266187-2579  https://www.otodom.pl/wynajem/mieszkanie/warsz...   \n",
       "\n",
       "                                           offer_url  \\\n",
       "0  37 m²\\n                    \\n                 ...   \n",
       "1  38 m²\\n                    \\n                 ...   \n",
       "2  57 m²\\n                    \\n                 ...   \n",
       "3  63 m²\\n                    \\n                 ...   \n",
       "4  65 m²\\n                    \\n                 ...   \n",
       "\n",
       "                                      offer_url-href  \\\n",
       "0  https://www.otodom.pl/pl/oferta/wynajme-od-zar...   \n",
       "1  https://www.otodom.pl/pl/oferta/2-pokoje-tanio...   \n",
       "2  https://www.otodom.pl/pl/oferta/wynajme-mieszk...   \n",
       "3  https://www.otodom.pl/pl/oferta/zielone-zacisz...   \n",
       "4  https://www.otodom.pl/pl/oferta/eleganckie-mie...   \n",
       "\n",
       "                                            location net_price  \\\n",
       "0                   Warszawa, Włochy, ul. 1 Sierpnia  2 100 zł   \n",
       "1                    Warszawa, Mokotów, ul. Suwak 11  1 825 zł   \n",
       "2                    Warszawa, Bielany, ul. Kwitnąca  3 300 zł   \n",
       "3             Warszawa, Targówek, ul. św. Wincentego  2 200 zł   \n",
       "4  Warszawa, Ochota, Stara Ochota, ul. Juliana Ur...  3 000 zł   \n",
       "\n",
       "           deposit                area        room_num  \\\n",
       "0  Kaucja:2 100 zł  Powierzchnia:37 m²  Liczba pokoi:2   \n",
       "1  Kaucja:3 400 zł  Powierzchnia:38 m²  Liczba pokoi:2   \n",
       "2  Kaucja:3 300 zł  Powierzchnia:57 m²  Liczba pokoi:3   \n",
       "3              NaN  Powierzchnia:63 m²  Liczba pokoi:2   \n",
       "4  Kaucja:3 000 zł  Powierzchnia:65 m²  Liczba pokoi:3   \n",
       "\n",
       "                  build_type  ...  \\\n",
       "0                        NaN  ...   \n",
       "1       Rodzaj zabudowy:blok  ...   \n",
       "2       Rodzaj zabudowy:blok  ...   \n",
       "3       Rodzaj zabudowy:blok  ...   \n",
       "4  Rodzaj zabudowy:kamienica  ...   \n",
       "\n",
       "                                      rest_info                      offer_ID  \\\n",
       "0                                  klimatyzacja  Nr oferty w Otodom: 61451923   \n",
       "1    garaż/miejsce parkingowewindapom. użytkowe  Nr oferty w Otodom: 61405987   \n",
       "2  balkontylko dla niepalącychoddzielna kuchnia  Nr oferty w Otodom: 61375474   \n",
       "3                                           NaN  Nr oferty w Otodom: 61439492   \n",
       "4                                           NaN  Nr oferty w Otodom: 61455072   \n",
       "\n",
       "  next_pagination                               next_pagination-href  \\\n",
       "0             NaN  https://www.otodom.pl/wynajem/mieszkanie/warsz...   \n",
       "1             NaN  https://www.otodom.pl/wynajem/mieszkanie/warsz...   \n",
       "2             NaN  https://www.otodom.pl/wynajem/mieszkanie/warsz...   \n",
       "3             NaN  https://www.otodom.pl/wynajem/mieszkanie/warsz...   \n",
       "4             NaN                                                NaN   \n",
       "\n",
       "                    add_cost               offer_last_update second_page  \\\n",
       "0                        NaN   Data aktualizacji: 3 dni temu         NaN   \n",
       "1  Czynsz - dodatkowo:350 zł   Data aktualizacji: 2 dni temu         NaN   \n",
       "2    Czynsz - dodatkowo:1 zł  Data aktualizacji: 22 dni temu         NaN   \n",
       "3                        NaN   Data aktualizacji: 5 dni temu         NaN   \n",
       "4                        NaN   Data aktualizacji: 2 dni temu         NaN   \n",
       "\n",
       "  second_page-href third_page third_page-href  \n",
       "0              NaN        NaN             NaN  \n",
       "1              NaN        NaN             NaN  \n",
       "2              NaN        NaN             NaN  \n",
       "3              NaN        NaN             NaN  \n",
       "4              NaN        NaN             NaN  \n",
       "\n",
       "[5 rows x 30 columns]"
      ]
     },
     "execution_count": 3,
     "metadata": {},
     "output_type": "execute_result"
    }
   ],
   "source": [
    "raw_data.head()"
   ]
  },
  {
   "cell_type": "markdown",
   "metadata": {},
   "source": [
    "Dataset contains various parameters such as offert_url, location, price netto, deposit, area, <br>\n",
    "aditional features of flat (such as air conditioning, alarm system, type of building)."
   ]
  },
  {
   "cell_type": "markdown",
   "metadata": {},
   "source": [
    "#### Preprocessing"
   ]
  },
  {
   "cell_type": "markdown",
   "metadata": {},
   "source": [
    "In our case we want to find relation between area of flat and price. Area can be selected from column 'offer_url'. <br>\n",
    "Informations about price are located in columns 'net_price' and 'add_cost'."
   ]
  },
  {
   "cell_type": "code",
   "execution_count": 4,
   "metadata": {},
   "outputs": [
    {
     "data": {
      "text/html": [
       "<div>\n",
       "<style scoped>\n",
       "    .dataframe tbody tr th:only-of-type {\n",
       "        vertical-align: middle;\n",
       "    }\n",
       "\n",
       "    .dataframe tbody tr th {\n",
       "        vertical-align: top;\n",
       "    }\n",
       "\n",
       "    .dataframe thead th {\n",
       "        text-align: right;\n",
       "    }\n",
       "</style>\n",
       "<table border=\"1\" class=\"dataframe\">\n",
       "  <thead>\n",
       "    <tr style=\"text-align: right;\">\n",
       "      <th></th>\n",
       "      <th>offer_url</th>\n",
       "      <th>net_price</th>\n",
       "      <th>add_cost</th>\n",
       "    </tr>\n",
       "  </thead>\n",
       "  <tbody>\n",
       "    <tr>\n",
       "      <th>0</th>\n",
       "      <td>37 m²\\n                    \\n                 ...</td>\n",
       "      <td>2 100 zł</td>\n",
       "      <td>NaN</td>\n",
       "    </tr>\n",
       "    <tr>\n",
       "      <th>1</th>\n",
       "      <td>38 m²\\n                    \\n                 ...</td>\n",
       "      <td>1 825 zł</td>\n",
       "      <td>Czynsz - dodatkowo:350 zł</td>\n",
       "    </tr>\n",
       "    <tr>\n",
       "      <th>2</th>\n",
       "      <td>57 m²\\n                    \\n                 ...</td>\n",
       "      <td>3 300 zł</td>\n",
       "      <td>Czynsz - dodatkowo:1 zł</td>\n",
       "    </tr>\n",
       "    <tr>\n",
       "      <th>3</th>\n",
       "      <td>63 m²\\n                    \\n                 ...</td>\n",
       "      <td>2 200 zł</td>\n",
       "      <td>NaN</td>\n",
       "    </tr>\n",
       "    <tr>\n",
       "      <th>4</th>\n",
       "      <td>65 m²\\n                    \\n                 ...</td>\n",
       "      <td>3 000 zł</td>\n",
       "      <td>NaN</td>\n",
       "    </tr>\n",
       "  </tbody>\n",
       "</table>\n",
       "</div>"
      ],
      "text/plain": [
       "                                           offer_url net_price  \\\n",
       "0  37 m²\\n                    \\n                 ...  2 100 zł   \n",
       "1  38 m²\\n                    \\n                 ...  1 825 zł   \n",
       "2  57 m²\\n                    \\n                 ...  3 300 zł   \n",
       "3  63 m²\\n                    \\n                 ...  2 200 zł   \n",
       "4  65 m²\\n                    \\n                 ...  3 000 zł   \n",
       "\n",
       "                    add_cost  \n",
       "0                        NaN  \n",
       "1  Czynsz - dodatkowo:350 zł  \n",
       "2    Czynsz - dodatkowo:1 zł  \n",
       "3                        NaN  \n",
       "4                        NaN  "
      ]
     },
     "execution_count": 4,
     "metadata": {},
     "output_type": "execute_result"
    }
   ],
   "source": [
    "# Selecting important columns\n",
    "clipped_data = raw_data[['offer_url', 'net_price', 'add_cost']]\n",
    "clipped_data.head()"
   ]
  },
  {
   "cell_type": "code",
   "execution_count": 5,
   "metadata": {},
   "outputs": [],
   "source": [
    "# Extract area of flat\n",
    "data = pd.DataFrame()\n",
    "selected_area = clipped_data['offer_url'].str.split(' m', expand=True)[0]\n",
    "\n",
    "# Convert to numeric format \n",
    "selected_area = selected_area.str.replace(',', '.').astype(float)\n",
    "data['area'] = selected_area"
   ]
  },
  {
   "cell_type": "code",
   "execution_count": 6,
   "metadata": {},
   "outputs": [],
   "source": [
    "# Select net_price\n",
    "net_price = clipped_data['net_price'].str[:-3] # Remove currency info (PLN)\n",
    "net_price = net_price.str.replace(' ', '') # Remove white spaces\n",
    "net_price = net_price.str.replace(',', '.').astype(float) # Convert to float type\n",
    "data['net_price'] = net_price\n",
    "\n",
    "# Select additional cosst\n",
    "add_cost = clipped_data['add_cost'].str.split(':', expand=True)[1] # Select part with cost info\n",
    "add_cost = add_cost.str[:-3] # Remove currency info (PLN)\n",
    "add_cost = add_cost.str.replace(' ', '') # Remove white spaces\n",
    "add_cost = add_cost.str.replace(',', '.').astype(float) # Convert to float type\n",
    "\n",
    "data['add_cost'] = add_cost\n"
   ]
  },
  {
   "cell_type": "markdown",
   "metadata": {},
   "source": [
    "In result we get data with following structure"
   ]
  },
  {
   "cell_type": "code",
   "execution_count": 7,
   "metadata": {},
   "outputs": [
    {
     "data": {
      "text/html": [
       "<div>\n",
       "<style scoped>\n",
       "    .dataframe tbody tr th:only-of-type {\n",
       "        vertical-align: middle;\n",
       "    }\n",
       "\n",
       "    .dataframe tbody tr th {\n",
       "        vertical-align: top;\n",
       "    }\n",
       "\n",
       "    .dataframe thead th {\n",
       "        text-align: right;\n",
       "    }\n",
       "</style>\n",
       "<table border=\"1\" class=\"dataframe\">\n",
       "  <thead>\n",
       "    <tr style=\"text-align: right;\">\n",
       "      <th></th>\n",
       "      <th>area</th>\n",
       "      <th>net_price</th>\n",
       "      <th>add_cost</th>\n",
       "    </tr>\n",
       "  </thead>\n",
       "  <tbody>\n",
       "    <tr>\n",
       "      <th>0</th>\n",
       "      <td>37.0</td>\n",
       "      <td>2100.0</td>\n",
       "      <td>NaN</td>\n",
       "    </tr>\n",
       "    <tr>\n",
       "      <th>1</th>\n",
       "      <td>38.0</td>\n",
       "      <td>1825.0</td>\n",
       "      <td>350.0</td>\n",
       "    </tr>\n",
       "    <tr>\n",
       "      <th>2</th>\n",
       "      <td>57.0</td>\n",
       "      <td>3300.0</td>\n",
       "      <td>1.0</td>\n",
       "    </tr>\n",
       "    <tr>\n",
       "      <th>3</th>\n",
       "      <td>63.0</td>\n",
       "      <td>2200.0</td>\n",
       "      <td>NaN</td>\n",
       "    </tr>\n",
       "    <tr>\n",
       "      <th>4</th>\n",
       "      <td>65.0</td>\n",
       "      <td>3000.0</td>\n",
       "      <td>NaN</td>\n",
       "    </tr>\n",
       "  </tbody>\n",
       "</table>\n",
       "</div>"
      ],
      "text/plain": [
       "   area  net_price  add_cost\n",
       "0  37.0     2100.0       NaN\n",
       "1  38.0     1825.0     350.0\n",
       "2  57.0     3300.0       1.0\n",
       "3  63.0     2200.0       NaN\n",
       "4  65.0     3000.0       NaN"
      ]
     },
     "execution_count": 7,
     "metadata": {},
     "output_type": "execute_result"
    }
   ],
   "source": [
    "data.head()"
   ]
  },
  {
   "cell_type": "markdown",
   "metadata": {},
   "source": [
    "Information about data"
   ]
  },
  {
   "cell_type": "code",
   "execution_count": 8,
   "metadata": {},
   "outputs": [
    {
     "name": "stdout",
     "output_type": "stream",
     "text": [
      "<class 'pandas.core.frame.DataFrame'>\n",
      "RangeIndex: 3482 entries, 0 to 3481\n",
      "Data columns (total 3 columns):\n",
      " #   Column     Non-Null Count  Dtype  \n",
      "---  ------     --------------  -----  \n",
      " 0   area       3482 non-null   float64\n",
      " 1   net_price  3481 non-null   float64\n",
      " 2   add_cost   1915 non-null   float64\n",
      "dtypes: float64(3)\n",
      "memory usage: 81.7 KB\n"
     ]
    }
   ],
   "source": [
    "data.info()"
   ]
  },
  {
   "cell_type": "markdown",
   "metadata": {},
   "source": [
    "To clean data, rows with NaN in net_price will be deleted and NaN in add_cost will be replaced with 0"
   ]
  },
  {
   "cell_type": "code",
   "execution_count": 9,
   "metadata": {},
   "outputs": [],
   "source": [
    "data = data[pd.notnull(data['net_price'])]\n",
    "data['add_cost'] = data['add_cost'].fillna(0)"
   ]
  },
  {
   "cell_type": "code",
   "execution_count": 10,
   "metadata": {},
   "outputs": [],
   "source": [
    "# Convert data to integers\n",
    "data['area'] = data['area'].astype(int)\n",
    "data['net_price'] = data['net_price'].astype(int)\n",
    "data['add_cost'] = data['add_cost'].astype(int)\n",
    "\n",
    "# Calculate total price\n",
    "data['total_price'] = data['net_price'] + data['add_cost']\n",
    "\n",
    "# Save data to csv\n",
    "data.to_csv('cleaned_data.csv')"
   ]
  },
  {
   "cell_type": "code",
   "execution_count": 11,
   "metadata": {},
   "outputs": [],
   "source": [
    "# Filter data to reasonable values\n",
    "data = data[data['area'] <= 100]\n",
    "data = data[data['total_price'] <= 7500]\n"
   ]
  },
  {
   "cell_type": "code",
   "execution_count": 12,
   "metadata": {},
   "outputs": [
    {
     "data": {
      "text/html": [
       "<div>\n",
       "<style scoped>\n",
       "    .dataframe tbody tr th:only-of-type {\n",
       "        vertical-align: middle;\n",
       "    }\n",
       "\n",
       "    .dataframe tbody tr th {\n",
       "        vertical-align: top;\n",
       "    }\n",
       "\n",
       "    .dataframe thead th {\n",
       "        text-align: right;\n",
       "    }\n",
       "</style>\n",
       "<table border=\"1\" class=\"dataframe\">\n",
       "  <thead>\n",
       "    <tr style=\"text-align: right;\">\n",
       "      <th></th>\n",
       "      <th>area</th>\n",
       "      <th>net_price</th>\n",
       "      <th>add_cost</th>\n",
       "      <th>total_price</th>\n",
       "    </tr>\n",
       "  </thead>\n",
       "  <tbody>\n",
       "    <tr>\n",
       "      <th>0</th>\n",
       "      <td>37</td>\n",
       "      <td>2100</td>\n",
       "      <td>0</td>\n",
       "      <td>2100</td>\n",
       "    </tr>\n",
       "    <tr>\n",
       "      <th>1</th>\n",
       "      <td>38</td>\n",
       "      <td>1825</td>\n",
       "      <td>350</td>\n",
       "      <td>2175</td>\n",
       "    </tr>\n",
       "    <tr>\n",
       "      <th>2</th>\n",
       "      <td>57</td>\n",
       "      <td>3300</td>\n",
       "      <td>1</td>\n",
       "      <td>3301</td>\n",
       "    </tr>\n",
       "    <tr>\n",
       "      <th>3</th>\n",
       "      <td>63</td>\n",
       "      <td>2200</td>\n",
       "      <td>0</td>\n",
       "      <td>2200</td>\n",
       "    </tr>\n",
       "    <tr>\n",
       "      <th>4</th>\n",
       "      <td>65</td>\n",
       "      <td>3000</td>\n",
       "      <td>0</td>\n",
       "      <td>3000</td>\n",
       "    </tr>\n",
       "  </tbody>\n",
       "</table>\n",
       "</div>"
      ],
      "text/plain": [
       "   area  net_price  add_cost  total_price\n",
       "0    37       2100         0         2100\n",
       "1    38       1825       350         2175\n",
       "2    57       3300         1         3301\n",
       "3    63       2200         0         2200\n",
       "4    65       3000         0         3000"
      ]
     },
     "execution_count": 12,
     "metadata": {},
     "output_type": "execute_result"
    }
   ],
   "source": [
    "data.head()"
   ]
  },
  {
   "cell_type": "markdown",
   "metadata": {},
   "source": [
    "# Priors"
   ]
  },
  {
   "cell_type": "markdown",
   "metadata": {},
   "source": [
    "Priors [0-4 pts]<br>\n",
    "-Is it explained why particular priors for parameters were selected [1 pt]<br>\n",
    "-How prior parameters were selected [1 pt]<br>\n",
    "[Szpila]"
   ]
  },
  {
   "cell_type": "markdown",
   "metadata": {},
   "source": [
    "https://www.otodom.pl/pl/oferty/wynajem/mieszkanie/warszawa?by=PRICE&direction=ASC&page=1"
   ]
  },
  {
   "cell_type": "markdown",
   "metadata": {},
   "source": [
    "TODO: Describe ceneteing, predictor itd. [Pecio]"
   ]
  },
  {
   "cell_type": "code",
   "execution_count": 13,
   "metadata": {},
   "outputs": [],
   "source": [
    "data['c_area'] = data.area - data.area.mean()"
   ]
  },
  {
   "cell_type": "code",
   "execution_count": 14,
   "metadata": {},
   "outputs": [
    {
     "data": {
      "text/html": [
       "<div>\n",
       "<style scoped>\n",
       "    .dataframe tbody tr th:only-of-type {\n",
       "        vertical-align: middle;\n",
       "    }\n",
       "\n",
       "    .dataframe tbody tr th {\n",
       "        vertical-align: top;\n",
       "    }\n",
       "\n",
       "    .dataframe thead th {\n",
       "        text-align: right;\n",
       "    }\n",
       "</style>\n",
       "<table border=\"1\" class=\"dataframe\">\n",
       "  <thead>\n",
       "    <tr style=\"text-align: right;\">\n",
       "      <th></th>\n",
       "      <th>area</th>\n",
       "      <th>net_price</th>\n",
       "      <th>add_cost</th>\n",
       "      <th>total_price</th>\n",
       "      <th>c_area</th>\n",
       "    </tr>\n",
       "  </thead>\n",
       "  <tbody>\n",
       "    <tr>\n",
       "      <th>0</th>\n",
       "      <td>37</td>\n",
       "      <td>2100</td>\n",
       "      <td>0</td>\n",
       "      <td>2100</td>\n",
       "      <td>-7.3566</td>\n",
       "    </tr>\n",
       "    <tr>\n",
       "      <th>1</th>\n",
       "      <td>38</td>\n",
       "      <td>1825</td>\n",
       "      <td>350</td>\n",
       "      <td>2175</td>\n",
       "      <td>-6.3566</td>\n",
       "    </tr>\n",
       "    <tr>\n",
       "      <th>2</th>\n",
       "      <td>57</td>\n",
       "      <td>3300</td>\n",
       "      <td>1</td>\n",
       "      <td>3301</td>\n",
       "      <td>12.6434</td>\n",
       "    </tr>\n",
       "    <tr>\n",
       "      <th>3</th>\n",
       "      <td>63</td>\n",
       "      <td>2200</td>\n",
       "      <td>0</td>\n",
       "      <td>2200</td>\n",
       "      <td>18.6434</td>\n",
       "    </tr>\n",
       "    <tr>\n",
       "      <th>4</th>\n",
       "      <td>65</td>\n",
       "      <td>3000</td>\n",
       "      <td>0</td>\n",
       "      <td>3000</td>\n",
       "      <td>20.6434</td>\n",
       "    </tr>\n",
       "  </tbody>\n",
       "</table>\n",
       "</div>"
      ],
      "text/plain": [
       "   area  net_price  add_cost  total_price   c_area\n",
       "0    37       2100         0         2100  -7.3566\n",
       "1    38       1825       350         2175  -6.3566\n",
       "2    57       3300         1         3301  12.6434\n",
       "3    63       2200         0         2200  18.6434\n",
       "4    65       3000         0         3000  20.6434"
      ]
     },
     "execution_count": 14,
     "metadata": {},
     "output_type": "execute_result"
    }
   ],
   "source": [
    "data.head()"
   ]
  },
  {
   "cell_type": "markdown",
   "metadata": {},
   "source": [
    "TODO: Data for simulation describe [Pecio]"
   ]
  },
  {
   "cell_type": "code",
   "execution_count": 15,
   "metadata": {},
   "outputs": [],
   "source": [
    "N = 50\n",
    "area = np.linspace(data.c_area.min(), data.c_area.max(), N)\n",
    "data_sim = {'N': N, 'area': area}"
   ]
  },
  {
   "cell_type": "markdown",
   "metadata": {},
   "source": [
    "### Prior predictive check"
   ]
  },
  {
   "cell_type": "code",
   "execution_count": 16,
   "metadata": {},
   "outputs": [
    {
     "name": "stderr",
     "output_type": "stream",
     "text": [
      "INFO:cmdstanpy:found newer exe file, not recompiling\n",
      "INFO:cmdstanpy:CmdStan start processing\n",
      "chain 1 |\u001b[34m██████████\u001b[0m| 00:00 Sampling completed"
     ]
    },
    {
     "name": "stdout",
     "output_type": "stream",
     "text": [
      "                                                                                "
     ]
    },
    {
     "name": "stderr",
     "output_type": "stream",
     "text": [
      "\n",
      "INFO:cmdstanpy:CmdStan done processing.\n"
     ]
    },
    {
     "name": "stdout",
     "output_type": "stream",
     "text": [
      "\n"
     ]
    }
   ],
   "source": [
    "normal_model_ppc = CmdStanModel(stan_file='linear_regression_ppc.stan')\n",
    "\n",
    "R = 1000\n",
    "sim_normal = normal_model_ppc.sample(data=data_sim, \n",
    "                     iter_sampling=R, \n",
    "                     iter_warmup=0, \n",
    "                     chains=1, \n",
    "                     refresh=R,\n",
    "                     fixed_param=True,\n",
    "                     seed=1)\n",
    "\n",
    "alpha_sim_normal = sim_normal.stan_variable('alpha')\n",
    "beta_sim_normal = sim_normal.stan_variable('beta')\n",
    "price_sim_normal = sim_normal.stan_variable('price')"
   ]
  },
  {
   "cell_type": "markdown",
   "metadata": {},
   "source": [
    "-Have prior predictive checks been done for parameters (are parameters simulated from priors make sense) [1 pt]<br> [Pecio]"
   ]
  },
  {
   "cell_type": "code",
   "execution_count": 17,
   "metadata": {},
   "outputs": [],
   "source": [
    "# TODO: Histogram mu sigma [Pecio]"
   ]
  },
  {
   "cell_type": "code",
   "execution_count": 18,
   "metadata": {},
   "outputs": [
    {
     "data": {
      "image/png": "[encoded data removed]",
      "text/plain": [
       "<Figure size 504x288 with 1 Axes>"
      ]
     },
     "metadata": {
      "needs_background": "light"
     },
     "output_type": "display_data"
    }
   ],
   "source": [
    "fig, axes = plt.subplots(1, 1, figsize=(7, 4))\n",
    "axes.hlines([0,8000],xmin=data.area.min(),xmax=data.area.max(),linestyle='--',color='black')\n",
    "for i in range(100):\n",
    "    axes.plot(data.area,alpha_sim_normal[i] + beta_sim_normal[i] * data.c_area, color=MID, alpha=0.5, linewidth=0.5)\n",
    "axes.set_xlabel('Area [$m^2$]')\n",
    "axes.set_ylabel('Price [PLN]')\n",
    "axes.set_title(r'Simulated data from given prior')\n",
    "plt.show()"
   ]
  },
  {
   "cell_type": "markdown",
   "metadata": {},
   "source": [
    "TODO: Conclusions [Pecio]"
   ]
  },
  {
   "cell_type": "markdown",
   "metadata": {},
   "source": [
    "-Have prior predictive checks been done for measurements (are measurements simulated from priors make sense) [1 pt]<br> [Pecio]\n"
   ]
  },
  {
   "cell_type": "code",
   "execution_count": 19,
   "metadata": {},
   "outputs": [
    {
     "data": {
      "image/png": "[encoded data removed]",
      "text/plain": [
       "<Figure size 504x288 with 1 Axes>"
      ]
     },
     "metadata": {
      "needs_background": "light"
     },
     "output_type": "display_data"
    }
   ],
   "source": [
    "fig, axes = plt.subplots(1, 1, figsize=(7, 4))\n",
    "axes = ribbon_plot(data_sim['area'] + data.area.mean(), price_sim_normal, axes)\n",
    "axes.scatter(data.area, data.total_price, color='black', alpha=0.2,s=5)\n",
    "plt.show()\n"
   ]
  },
  {
   "cell_type": "code",
   "execution_count": 20,
   "metadata": {},
   "outputs": [],
   "source": [
    "# TODO: hist: sim_price [Pecio]"
   ]
  },
  {
   "cell_type": "markdown",
   "metadata": {},
   "source": [
    "## Model [0-4 pts] [Pecio, Szpila]\n",
    "-are two different models specified [1 pt] - opisać że mamy 2 różne modele <br>\n",
    "-are difference between two models explained [1 pt] - różnice pomiędzy modelami <br>\n",
    "-is the difference in the models justified (e.g. does adding aditional parameter makes sense? ) [1 pt] - czy jest sens mieć ten drugi model? <br>\n",
    "<br>"
   ]
  },
  {
   "cell_type": "markdown",
   "metadata": {},
   "source": [
    "# Model 1: Normal Distribution [Pecio]"
   ]
  },
  {
   "cell_type": "markdown",
   "metadata": {},
   "source": [
    "-are models sufficiently described (what are formulas, what are parameters, what data are required ) [1 pt]<br>\n"
   ]
  },
  {
   "cell_type": "markdown",
   "metadata": {},
   "source": [
    "## Posterior"
   ]
  },
  {
   "cell_type": "code",
   "execution_count": 21,
   "metadata": {},
   "outputs": [],
   "source": [
    "DATA_SIZE = 300"
   ]
  },
  {
   "cell_type": "code",
   "execution_count": 22,
   "metadata": {},
   "outputs": [
    {
     "name": "stderr",
     "output_type": "stream",
     "text": [
      "INFO:cmdstanpy:found newer exe file, not recompiling\n"
     ]
    }
   ],
   "source": [
    "model_fit_normal = CmdStanModel(stan_file=\"linear_regression_fit.stan\")"
   ]
  },
  {
   "cell_type": "code",
   "execution_count": 23,
   "metadata": {},
   "outputs": [
    {
     "name": "stderr",
     "output_type": "stream",
     "text": [
      "INFO:cmdstanpy:CmdStan start processing\n",
      "chain 1 |\u001b[34m██████████\u001b[0m| 00:01 Sampling completed                       "
     ]
    },
    {
     "name": "stdout",
     "output_type": "stream",
     "text": [
      "                                                                                "
     ]
    },
    {
     "name": "stderr",
     "output_type": "stream",
     "text": [
      "\n",
      "INFO:cmdstanpy:CmdStan done processing.\n"
     ]
    },
    {
     "name": "stdout",
     "output_type": "stream",
     "text": [
      "\n"
     ]
    }
   ],
   "source": [
    "d_short=data.head(DATA_SIZE)\n",
    "\n",
    "data_fit = {\n",
    "    \"N\": len(d_short),\n",
    "    \"area\": d_short.c_area.values,\n",
    "    \"price\": d_short.total_price.values\n",
    "}\n",
    "\n",
    "fit_normal = model_fit_normal.sample(data=data_fit, seed=1, chains=1)\n",
    "alpha_fit_normal = fit_normal.stan_variable('alpha')\n",
    "beta_fit_normal = fit_normal.stan_variable('beta')\n",
    "mu_fit_normal = fit_normal.stan_variable('mu')\n",
    "price_pred_normal = fit_normal.stan_variable('price_pred')"
   ]
  },
  {
   "cell_type": "code",
   "execution_count": 24,
   "metadata": {},
   "outputs": [
    {
     "data": {
      "text/plain": [
       "'Processing csv files: C:\\\\Users\\\\piotr\\\\AppData\\\\Local\\\\Temp\\\\tmp4w72w8ko\\\\linear_regression_fit-20220613152640.csv\\n\\nChecking sampler transitions treedepth.\\nTreedepth satisfactory for all transitions.\\n\\nChecking sampler transitions for divergences.\\nNo divergent transitions found.\\n\\nChecking E-BFMI - sampler transitions HMC potential energy.\\nE-BFMI satisfactory.\\n\\nEffective sample size satisfactory.\\n\\nSplit R-hat values satisfactory all parameters.\\n\\nProcessing complete, no problems detected.\\n'"
      ]
     },
     "execution_count": 24,
     "metadata": {},
     "output_type": "execute_result"
    }
   ],
   "source": [
    "# Diagnose fit\n",
    "fit_normal.diagnose()"
   ]
  },
  {
   "cell_type": "markdown",
   "metadata": {},
   "source": [
    "According to diagnose result, there were no problems with sampling. Model is well defined."
   ]
  },
  {
   "cell_type": "code",
   "execution_count": 25,
   "metadata": {},
   "outputs": [
    {
     "data": {
      "text/html": [
       "<div>\n",
       "<style scoped>\n",
       "    .dataframe tbody tr th:only-of-type {\n",
       "        vertical-align: middle;\n",
       "    }\n",
       "\n",
       "    .dataframe tbody tr th {\n",
       "        vertical-align: top;\n",
       "    }\n",
       "\n",
       "    .dataframe thead th {\n",
       "        text-align: right;\n",
       "    }\n",
       "</style>\n",
       "<table border=\"1\" class=\"dataframe\">\n",
       "  <thead>\n",
       "    <tr style=\"text-align: right;\">\n",
       "      <th></th>\n",
       "      <th>mean</th>\n",
       "      <th>sd</th>\n",
       "      <th>hdi_3%</th>\n",
       "      <th>hdi_97%</th>\n",
       "    </tr>\n",
       "  </thead>\n",
       "  <tbody>\n",
       "    <tr>\n",
       "      <th>alpha</th>\n",
       "      <td>2523.73</td>\n",
       "      <td>29.83</td>\n",
       "      <td>2466.62</td>\n",
       "      <td>2576.11</td>\n",
       "    </tr>\n",
       "    <tr>\n",
       "      <th>beta</th>\n",
       "      <td>38.37</td>\n",
       "      <td>1.99</td>\n",
       "      <td>34.55</td>\n",
       "      <td>42.03</td>\n",
       "    </tr>\n",
       "    <tr>\n",
       "      <th>sigma</th>\n",
       "      <td>535.27</td>\n",
       "      <td>21.72</td>\n",
       "      <td>492.88</td>\n",
       "      <td>573.54</td>\n",
       "    </tr>\n",
       "  </tbody>\n",
       "</table>\n",
       "</div>"
      ],
      "text/plain": [
       "          mean     sd   hdi_3%  hdi_97%\n",
       "alpha  2523.73  29.83  2466.62  2576.11\n",
       "beta     38.37   1.99    34.55    42.03\n",
       "sigma   535.27  21.72   492.88   573.54"
      ]
     },
     "execution_count": 25,
     "metadata": {},
     "output_type": "execute_result"
    }
   ],
   "source": [
    "az.summary(fit_normal, var_names=['alpha', 'beta', 'sigma'], kind='stats', round_to=2)"
   ]
  },
  {
   "cell_type": "code",
   "execution_count": 26,
   "metadata": {},
   "outputs": [
    {
     "data": {
      "image/png": "[encoded data removed]",
      "text/plain": [
       "<Figure size 504x576 with 2 Axes>"
      ]
     },
     "metadata": {
      "needs_background": "light"
     },
     "output_type": "display_data"
    }
   ],
   "source": [
    "fig, axes = plt.subplots(2,1, figsize=(7, 8),sharey=True,sharex=True)\n",
    "ax0=axes[0]\n",
    "\n",
    "NUM_OF_SAMPLES = 100\n",
    "for i in range(NUM_OF_SAMPLES):\n",
    "    ax0.plot(d_short.area,\n",
    "              alpha_fit_normal[i] + beta_fit_normal[i] * d_short.c_area,\n",
    "              color=MID,\n",
    "              alpha=0.5,linewidth=0.5)\n",
    "\n",
    "ax0.scatter(d_short.area,d_short.total_price,color='black',alpha=0.1,s=10)\n",
    "ax0.set_ylabel('Price [PLN]')\n",
    "ax0.set_title('First {} mean samples for {} of datapoints'.format(NUM_OF_SAMPLES, len(d_short)))\n",
    "\n",
    "ax1=axes[1]\n",
    "ax1=ribbon_plot(d_short.area.values, mu_fit_normal, ax1, supress_warning=True)\n",
    "ax1.scatter(d_short.area, d_short.total_price, color='black', alpha=0.1, s=10)\n",
    "ax1.set_xlabel('Area [$m^2$]')\n",
    "ax1.set_ylabel('Price [PLN]')\n",
    "\n",
    "ax1.set_title('Mean uncertainity for {} of datapoints'.format(len(d_short)))\n",
    "fig.tight_layout()\n",
    "plt.show()"
   ]
  },
  {
   "cell_type": "code",
   "execution_count": 27,
   "metadata": {},
   "outputs": [
    {
     "data": {
      "image/png": "[encoded data removed]",
      "text/plain": [
       "<Figure size 504x288 with 1 Axes>"
      ]
     },
     "metadata": {
      "needs_background": "light"
     },
     "output_type": "display_data"
    }
   ],
   "source": [
    "fig, axes = plt.subplots(1, 1, figsize=(7, 4))\n",
    "\n",
    "axes = ribbon_plot(d_short.area.values, price_pred_normal, axes,supress_warning=True)\n",
    "axes.scatter(d_short.area, d_short.total_price,color='black',alpha=0.2,s=10)\n",
    "axes.set_xlabel('Area [$m^2$]')\n",
    "axes.set_ylabel('Price [PLN]')\n",
    "axes.set_title('Prediction uncertainity for {} of datapoints'.format(len(d_short)))\n",
    "plt.show()"
   ]
  },
  {
   "cell_type": "code",
   "execution_count": 28,
   "metadata": {},
   "outputs": [
    {
     "data": {
      "image/png": "[encoded data removed]",
      "text/plain": [
       "<Figure size 504x288 with 2 Axes>"
      ]
     },
     "metadata": {
      "needs_background": "light"
     },
     "output_type": "display_data"
    }
   ],
   "source": [
    "fig, axes = plt.subplots(1, 2, figsize=(7, 4))\n",
    "\n",
    "ax = axes[0]\n",
    "ax.hist(alpha_fit_normal, bins=20, color=DARK, edgecolor=DARK_HIGHLIGHT, density=True)\n",
    "ax.hist(data.total_price, bins=20,color=LIGHT,edgecolor=LIGHT_HIGHLIGHT,density=True)\n",
    "ax.set_title(r'$\\alpha$')\n",
    "ax.set_yticks(())\n",
    "ax.set_xlim(1000, 4000)\n",
    "\n",
    "ax2 = axes[1]\n",
    "ax2.hist(beta_fit_normal, bins=20,color=DARK,edgecolor=DARK_HIGHLIGHT,density=True)\n",
    "ax2.set_title(r'$\\beta$')\n",
    "ax2.set_yticks(())\n",
    "fig.tight_layout()\n",
    "plt.show()"
   ]
  },
  {
   "cell_type": "markdown",
   "metadata": {},
   "source": [
    "## Marginal for selected area"
   ]
  },
  {
   "cell_type": "code",
   "execution_count": 29,
   "metadata": {},
   "outputs": [],
   "source": [
    "def plot_marginal(area: int, type=\"normal\"):\n",
    "\n",
    "    if type == \"normal\":\n",
    "        marginal_mu = alpha_fit_normal + beta_fit_normal * (area - data.area.mean())\n",
    "    elif type == \"student\":\n",
    "        marginal_mu = alpha_fit_student + beta_fit_student * (area - data.area.mean())\n",
    "\n",
    "    fig, ax = plt.subplots(1, 1, figsize=(7, 4))\n",
    "    ax.hist(marginal_mu, bins=20, color=DARK, edgecolor=DARK_HIGHLIGHT, density=True)\n",
    "    ax.set_title(f'Mean for area {area}$m^2$')\n",
    "    ax.set_yticks(())\n",
    "    ax.set_xlabel(f'mu|area={area} $m^2$')\n",
    "    plt.show()"
   ]
  },
  {
   "cell_type": "code",
   "execution_count": 30,
   "metadata": {},
   "outputs": [
    {
     "data": {
      "image/png": "[encoded data removed]",
      "text/plain": [
       "<Figure size 504x288 with 1 Axes>"
      ]
     },
     "metadata": {
      "needs_background": "light"
     },
     "output_type": "display_data"
    }
   ],
   "source": [
    "plot_marginal(25)\n"
   ]
  },
  {
   "cell_type": "code",
   "execution_count": 31,
   "metadata": {},
   "outputs": [
    {
     "data": {
      "image/png": "[encoded data removed]",
      "text/plain": [
       "<Figure size 504x288 with 1 Axes>"
      ]
     },
     "metadata": {
      "needs_background": "light"
     },
     "output_type": "display_data"
    }
   ],
   "source": [
    "plot_marginal(50)\n"
   ]
  },
  {
   "cell_type": "code",
   "execution_count": 32,
   "metadata": {},
   "outputs": [
    {
     "data": {
      "image/png": "[encoded data removed]",
      "text/plain": [
       "<Figure size 504x288 with 1 Axes>"
      ]
     },
     "metadata": {
      "needs_background": "light"
     },
     "output_type": "display_data"
    }
   ],
   "source": [
    "plot_marginal(75)\n"
   ]
  },
  {
   "cell_type": "code",
   "execution_count": 33,
   "metadata": {},
   "outputs": [
    {
     "data": {
      "image/png": "[encoded data removed]",
      "text/plain": [
       "<Figure size 504x288 with 1 Axes>"
      ]
     },
     "metadata": {
      "needs_background": "light"
     },
     "output_type": "display_data"
    }
   ],
   "source": [
    "plot_marginal(100)\n"
   ]
  },
  {
   "cell_type": "markdown",
   "metadata": {},
   "source": [
    "TODO: Conclusions"
   ]
  },
  {
   "cell_type": "markdown",
   "metadata": {},
   "source": [
    "# Model 2: Student T Distribution [Szpila]"
   ]
  },
  {
   "cell_type": "markdown",
   "metadata": {},
   "source": [
    "-are models sufficiently described (what are formulas, what are parameters, what data are required ) [1 pt]<br>\n"
   ]
  },
  {
   "cell_type": "markdown",
   "metadata": {},
   "source": [
    "## Posterior"
   ]
  },
  {
   "cell_type": "code",
   "execution_count": 35,
   "metadata": {},
   "outputs": [
    {
     "name": "stderr",
     "output_type": "stream",
     "text": [
      "INFO:cmdstanpy:compiling stan file C:\\Users\\piotr\\Desktop\\ISZ\\Semestr 1\\data_analytics_2022\\Project\\student_fit.stan to exe file C:\\Users\\piotr\\Desktop\\ISZ\\Semestr 1\\data_analytics_2022\\Project\\student_fit.exe\n",
      "INFO:cmdstanpy:compiled model executable: C:\\Users\\piotr\\Desktop\\ISZ\\Semestr 1\\data_analytics_2022\\Project\\student_fit.exe\n"
     ]
    }
   ],
   "source": [
    "model_fit_student = CmdStanModel(stan_file=\"student_fit.stan\")"
   ]
  },
  {
   "cell_type": "code",
   "execution_count": 36,
   "metadata": {},
   "outputs": [
    {
     "name": "stderr",
     "output_type": "stream",
     "text": [
      "INFO:cmdstanpy:CmdStan start processing\n",
      "chain 1 |\u001b[34m██████████\u001b[0m| 00:02 Sampling completed                       "
     ]
    },
    {
     "name": "stdout",
     "output_type": "stream",
     "text": [
      "                                                                                "
     ]
    },
    {
     "name": "stderr",
     "output_type": "stream",
     "text": [
      "\n",
      "INFO:cmdstanpy:CmdStan done processing.\n"
     ]
    },
    {
     "name": "stdout",
     "output_type": "stream",
     "text": [
      "\n"
     ]
    }
   ],
   "source": [
    "d_short=data.head(DATA_SIZE)\n",
    "\n",
    "data_fit = {\n",
    "    \"N\": len(d_short),\n",
    "    \"area\": d_short.c_area.values,\n",
    "    \"price\": d_short.total_price.values\n",
    "}\n",
    "\n",
    "fit_student = model_fit_student.sample(data=data_fit,seed=1, chains=1)\n",
    "alpha_fit_student = fit_student.stan_variable('alpha')\n",
    "beta_fit_student = fit_student.stan_variable('beta')\n",
    "mu_fit_student = fit_student.stan_variable('mu')\n",
    "price_pred_student = fit_student.stan_variable('price_pred')"
   ]
  },
  {
   "cell_type": "code",
   "execution_count": 37,
   "metadata": {},
   "outputs": [
    {
     "data": {
      "text/plain": [
       "'Processing csv files: C:\\\\Users\\\\piotr\\\\AppData\\\\Local\\\\Temp\\\\tmp4w72w8ko\\\\student_fit-20220613152813.csv\\n\\nChecking sampler transitions treedepth.\\nTreedepth satisfactory for all transitions.\\n\\nChecking sampler transitions for divergences.\\nNo divergent transitions found.\\n\\nChecking E-BFMI - sampler transitions HMC potential energy.\\nE-BFMI satisfactory.\\n\\nEffective sample size satisfactory.\\n\\nSplit R-hat values satisfactory all parameters.\\n\\nProcessing complete, no problems detected.\\n'"
      ]
     },
     "execution_count": 37,
     "metadata": {},
     "output_type": "execute_result"
    }
   ],
   "source": [
    "# Fit diagnose\n",
    "fit_student.diagnose()"
   ]
  },
  {
   "cell_type": "markdown",
   "metadata": {},
   "source": [
    "According to diagnose result, there were no problems with sampling. Model is well defined."
   ]
  },
  {
   "cell_type": "code",
   "execution_count": 38,
   "metadata": {},
   "outputs": [
    {
     "data": {
      "text/html": [
       "<div>\n",
       "<style scoped>\n",
       "    .dataframe tbody tr th:only-of-type {\n",
       "        vertical-align: middle;\n",
       "    }\n",
       "\n",
       "    .dataframe tbody tr th {\n",
       "        vertical-align: top;\n",
       "    }\n",
       "\n",
       "    .dataframe thead th {\n",
       "        text-align: right;\n",
       "    }\n",
       "</style>\n",
       "<table border=\"1\" class=\"dataframe\">\n",
       "  <thead>\n",
       "    <tr style=\"text-align: right;\">\n",
       "      <th></th>\n",
       "      <th>mean</th>\n",
       "      <th>sd</th>\n",
       "      <th>hdi_3%</th>\n",
       "      <th>hdi_97%</th>\n",
       "    </tr>\n",
       "  </thead>\n",
       "  <tbody>\n",
       "    <tr>\n",
       "      <th>alpha</th>\n",
       "      <td>2471.22</td>\n",
       "      <td>23.74</td>\n",
       "      <td>2424.07</td>\n",
       "      <td>2511.23</td>\n",
       "    </tr>\n",
       "    <tr>\n",
       "      <th>beta</th>\n",
       "      <td>37.26</td>\n",
       "      <td>1.71</td>\n",
       "      <td>34.01</td>\n",
       "      <td>40.38</td>\n",
       "    </tr>\n",
       "    <tr>\n",
       "      <th>sigma</th>\n",
       "      <td>348.38</td>\n",
       "      <td>26.34</td>\n",
       "      <td>294.05</td>\n",
       "      <td>392.36</td>\n",
       "    </tr>\n",
       "  </tbody>\n",
       "</table>\n",
       "</div>"
      ],
      "text/plain": [
       "          mean     sd   hdi_3%  hdi_97%\n",
       "alpha  2471.22  23.74  2424.07  2511.23\n",
       "beta     37.26   1.71    34.01    40.38\n",
       "sigma   348.38  26.34   294.05   392.36"
      ]
     },
     "execution_count": 38,
     "metadata": {},
     "output_type": "execute_result"
    }
   ],
   "source": [
    "az.summary(fit_student, var_names=['alpha', 'beta', 'sigma'], kind='stats', round_to=2)"
   ]
  },
  {
   "cell_type": "code",
   "execution_count": 39,
   "metadata": {},
   "outputs": [
    {
     "data": {
      "image/png": "[encoded data removed]",
      "text/plain": [
       "<Figure size 504x576 with 2 Axes>"
      ]
     },
     "metadata": {
      "needs_background": "light"
     },
     "output_type": "display_data"
    }
   ],
   "source": [
    "fig, axes = plt.subplots(2,1, figsize=(7, 8),sharey=True,sharex=True)\n",
    "ax0=axes[0]\n",
    "\n",
    "for i in range(NUM_OF_SAMPLES):\n",
    "    ax0.plot(d_short.area,\n",
    "              alpha_fit_student[i] + beta_fit_student[i] * d_short.c_area,\n",
    "              color=MID,\n",
    "              alpha=0.5,linewidth=0.5)\n",
    "\n",
    "ax0.scatter(d_short.area, d_short.total_price, color='black', alpha=0.1, s=10)\n",
    "ax0.set_ylabel('Price [PLN]')\n",
    "ax0.set_title('First {} mean samples for {} of datapoints'.format(NUM_OF_SAMPLES, len(d_short)))\n",
    "\n",
    "ax1=axes[1]\n",
    "ax1=ribbon_plot(d_short.area.values, mu_fit_student, ax1, supress_warning=True)\n",
    "ax1.scatter(d_short.area, d_short.total_price, color='black', alpha=0.1, s=10)\n",
    "ax1.set_xlabel('Area [$m^2$]')\n",
    "ax1.set_ylabel('Price [PLN]')\n",
    "\n",
    "ax1.set_title('Mean uncertainity for {} of datapoints'.format(len(d_short)))\n",
    "fig.tight_layout()\n",
    "plt.show()"
   ]
  },
  {
   "cell_type": "code",
   "execution_count": 40,
   "metadata": {},
   "outputs": [
    {
     "data": {
      "image/png": "[encoded data removed]",
      "text/plain": [
       "<Figure size 504x288 with 1 Axes>"
      ]
     },
     "metadata": {
      "needs_background": "light"
     },
     "output_type": "display_data"
    }
   ],
   "source": [
    "fig, axes = plt.subplots(1, 1, figsize=(7, 4))\n",
    "axes = ribbon_plot(d_short.area.values, price_pred_student, axes, supress_warning=True)\n",
    "axes.scatter(d_short.area, d_short.total_price,color='black',alpha=0.2,s=10)\n",
    "axes.set_xlabel('Area [$m^2$]')\n",
    "axes.set_ylabel('Price [PLN]')\n",
    "axes.set_title('Prediction uncertainity for {} of datapoints'.format(len(d_short)))\n",
    "plt.show()"
   ]
  },
  {
   "cell_type": "code",
   "execution_count": 41,
   "metadata": {},
   "outputs": [
    {
     "data": {
      "image/png": "[encoded data removed]",
      "text/plain": [
       "<Figure size 504x288 with 2 Axes>"
      ]
     },
     "metadata": {
      "needs_background": "light"
     },
     "output_type": "display_data"
    }
   ],
   "source": [
    "fig, axes = plt.subplots(1, 2, figsize=(7, 4))\n",
    "\n",
    "ax = axes[0]\n",
    "ax.hist(alpha_fit_student, bins=20, color=DARK, edgecolor=DARK_HIGHLIGHT, density=True)\n",
    "ax.hist(data.total_price, bins=20, color=LIGHT, edgecolor=LIGHT_HIGHLIGHT,density=True)\n",
    "ax.set_title(r'$\\alpha$')\n",
    "ax.set_yticks(())\n",
    "ax.set_xlim(1000, 4000)\n",
    "\n",
    "ax2 = axes[1]\n",
    "ax2.hist(beta_fit_student, bins=20,color=DARK,edgecolor=DARK_HIGHLIGHT,density=True)\n",
    "ax2.set_title(r'$\\beta$')\n",
    "ax2.set_yticks(())\n",
    "fig.tight_layout()\n",
    "plt.show()"
   ]
  },
  {
   "cell_type": "markdown",
   "metadata": {},
   "source": [
    "## Marginal for selected area"
   ]
  },
  {
   "cell_type": "code",
   "execution_count": 42,
   "metadata": {},
   "outputs": [
    {
     "data": {
      "image/png": "[encoded data removed]",
      "text/plain": [
       "<Figure size 504x288 with 1 Axes>"
      ]
     },
     "metadata": {
      "needs_background": "light"
     },
     "output_type": "display_data"
    }
   ],
   "source": [
    "plot_marginal(25, type=\"student\")"
   ]
  },
  {
   "cell_type": "code",
   "execution_count": 43,
   "metadata": {},
   "outputs": [
    {
     "data": {
      "image/png": "[encoded data removed]",
      "text/plain": [
       "<Figure size 504x288 with 1 Axes>"
      ]
     },
     "metadata": {
      "needs_background": "light"
     },
     "output_type": "display_data"
    }
   ],
   "source": [
    "plot_marginal(50, type=\"student\")"
   ]
  },
  {
   "cell_type": "code",
   "execution_count": 44,
   "metadata": {},
   "outputs": [
    {
     "data": {
      "image/png": "[encoded data removed]",
      "text/plain": [
       "<Figure size 504x288 with 1 Axes>"
      ]
     },
     "metadata": {
      "needs_background": "light"
     },
     "output_type": "display_data"
    }
   ],
   "source": [
    "plot_marginal(75, type=\"student\")"
   ]
  },
  {
   "cell_type": "code",
   "execution_count": 45,
   "metadata": {},
   "outputs": [
    {
     "data": {
      "image/png": "[encoded data removed]",
      "text/plain": [
       "<Figure size 504x288 with 1 Axes>"
      ]
     },
     "metadata": {
      "needs_background": "light"
     },
     "output_type": "display_data"
    }
   ],
   "source": [
    "plot_marginal(100, type=\"student\")"
   ]
  },
  {
   "cell_type": "markdown",
   "metadata": {},
   "source": [
    "# Model comparision"
   ]
  },
  {
   "cell_type": "markdown",
   "metadata": {},
   "source": [
    "<br>\n",
    "Model comaprison [0-4 pts]<br>\n",
    "-Have models been compared using information criteria [1 pt]<br>\n",
    "-Have result for WAIC been discussed (is there a clear winner, or is there an overlap, were there any warnings) [1 pt]<br>\n",
    "-Have result for PSIS-LOO been discussed (is there a clear winner, or is there an overlap, were there any warnings) [1 pt]<br>\n",
    "-Whas the model comparison discussed? Do authors agree with information criteria? Why in your opinion one model better than another [1 pt]<br>"
   ]
  },
  {
   "cell_type": "markdown",
   "metadata": {},
   "source": [
    "[Szpila] Opis wykresów byle jaki"
   ]
  },
  {
   "cell_type": "code",
   "execution_count": 46,
   "metadata": {},
   "outputs": [
    {
     "data": {
      "image/png": "[encoded data removed]",
      "text/plain": [
       "<Figure size 864x288 with 2 Axes>"
      ]
     },
     "metadata": {
      "needs_background": "light"
     },
     "output_type": "display_data"
    }
   ],
   "source": [
    "fig, axes = plt.subplots(1, 2, figsize=(12, 4))\n",
    "\n",
    "ax = axes[0]\n",
    "ax = ribbon_plot(d_short.area.values, price_pred_normal, ax,supress_warning=True)\n",
    "ax.scatter(d_short.area, d_short.total_price, color='black', alpha=0.2, s=10)\n",
    "ax.set_xlabel('Area [$m^2$]')\n",
    "ax.set_ylabel('Price [PLN]')\n",
    "ax.set_title('Prediction uncertainity for {} of datapoints (Normal)'.format(len(d_short)))\n",
    "\n",
    "ax1 = axes[1]\n",
    "ax1 = ribbon_plot(d_short.area.values, price_pred_student, ax1, supress_warning=True)\n",
    "ax1.scatter(d_short.area, d_short.total_price, color='black', alpha=0.2, s=10)\n",
    "ax1.set_xlabel('Area [$m^2$]')\n",
    "ax1.set_ylabel('Price [PLN]')\n",
    "ax1.set_title('Prediction uncertainity for {} of datapoints (Student)'.format(len(d_short)))\n",
    "\n",
    "plt.show()"
   ]
  },
  {
   "cell_type": "code",
   "execution_count": 47,
   "metadata": {},
   "outputs": [
    {
     "data": {
      "text/html": [
       "<div>\n",
       "<style scoped>\n",
       "    .dataframe tbody tr th:only-of-type {\n",
       "        vertical-align: middle;\n",
       "    }\n",
       "\n",
       "    .dataframe tbody tr th {\n",
       "        vertical-align: top;\n",
       "    }\n",
       "\n",
       "    .dataframe thead th {\n",
       "        text-align: right;\n",
       "    }\n",
       "</style>\n",
       "<table border=\"1\" class=\"dataframe\">\n",
       "  <thead>\n",
       "    <tr style=\"text-align: right;\">\n",
       "      <th></th>\n",
       "      <th>mean</th>\n",
       "      <th>sd</th>\n",
       "      <th>hdi_3%</th>\n",
       "      <th>hdi_97%</th>\n",
       "    </tr>\n",
       "  </thead>\n",
       "  <tbody>\n",
       "    <tr>\n",
       "      <th>alpha</th>\n",
       "      <td>2523.73</td>\n",
       "      <td>29.83</td>\n",
       "      <td>2466.62</td>\n",
       "      <td>2576.11</td>\n",
       "    </tr>\n",
       "    <tr>\n",
       "      <th>beta</th>\n",
       "      <td>38.37</td>\n",
       "      <td>1.99</td>\n",
       "      <td>34.55</td>\n",
       "      <td>42.03</td>\n",
       "    </tr>\n",
       "    <tr>\n",
       "      <th>sigma</th>\n",
       "      <td>535.27</td>\n",
       "      <td>21.72</td>\n",
       "      <td>492.88</td>\n",
       "      <td>573.54</td>\n",
       "    </tr>\n",
       "  </tbody>\n",
       "</table>\n",
       "</div>"
      ],
      "text/plain": [
       "          mean     sd   hdi_3%  hdi_97%\n",
       "alpha  2523.73  29.83  2466.62  2576.11\n",
       "beta     38.37   1.99    34.55    42.03\n",
       "sigma   535.27  21.72   492.88   573.54"
      ]
     },
     "execution_count": 47,
     "metadata": {},
     "output_type": "execute_result"
    }
   ],
   "source": [
    "az.summary(fit_normal, var_names=['alpha','beta','sigma'], round_to=2, kind='stats')"
   ]
  },
  {
   "cell_type": "code",
   "execution_count": 48,
   "metadata": {},
   "outputs": [
    {
     "data": {
      "text/html": [
       "<div>\n",
       "<style scoped>\n",
       "    .dataframe tbody tr th:only-of-type {\n",
       "        vertical-align: middle;\n",
       "    }\n",
       "\n",
       "    .dataframe tbody tr th {\n",
       "        vertical-align: top;\n",
       "    }\n",
       "\n",
       "    .dataframe thead th {\n",
       "        text-align: right;\n",
       "    }\n",
       "</style>\n",
       "<table border=\"1\" class=\"dataframe\">\n",
       "  <thead>\n",
       "    <tr style=\"text-align: right;\">\n",
       "      <th></th>\n",
       "      <th>mean</th>\n",
       "      <th>sd</th>\n",
       "      <th>hdi_3%</th>\n",
       "      <th>hdi_97%</th>\n",
       "    </tr>\n",
       "  </thead>\n",
       "  <tbody>\n",
       "    <tr>\n",
       "      <th>alpha</th>\n",
       "      <td>2471.22</td>\n",
       "      <td>23.74</td>\n",
       "      <td>2424.07</td>\n",
       "      <td>2511.23</td>\n",
       "    </tr>\n",
       "    <tr>\n",
       "      <th>beta</th>\n",
       "      <td>37.26</td>\n",
       "      <td>1.71</td>\n",
       "      <td>34.01</td>\n",
       "      <td>40.38</td>\n",
       "    </tr>\n",
       "    <tr>\n",
       "      <th>sigma</th>\n",
       "      <td>348.38</td>\n",
       "      <td>26.34</td>\n",
       "      <td>294.05</td>\n",
       "      <td>392.36</td>\n",
       "    </tr>\n",
       "  </tbody>\n",
       "</table>\n",
       "</div>"
      ],
      "text/plain": [
       "          mean     sd   hdi_3%  hdi_97%\n",
       "alpha  2471.22  23.74  2424.07  2511.23\n",
       "beta     37.26   1.71    34.01    40.38\n",
       "sigma   348.38  26.34   294.05   392.36"
      ]
     },
     "execution_count": 48,
     "metadata": {},
     "output_type": "execute_result"
    }
   ],
   "source": [
    "az.summary(fit_student, var_names=['alpha','beta','sigma'],round_to=2,kind='stats')"
   ]
  },
  {
   "cell_type": "markdown",
   "metadata": {},
   "source": [
    "LOO - leave-one-out"
   ]
  },
  {
   "cell_type": "code",
   "execution_count": 49,
   "metadata": {},
   "outputs": [],
   "source": [
    "arviz_result_normal = az.from_cmdstanpy(posterior=fit_normal)\n",
    "arviz_result_student = az.from_cmdstanpy(posterior=fit_student)"
   ]
  },
  {
   "cell_type": "code",
   "execution_count": 55,
   "metadata": {},
   "outputs": [
    {
     "name": "stderr",
     "output_type": "stream",
     "text": [
      "e:\\Programy\\anconda3\\envs\\data_env\\lib\\site-packages\\arviz\\stats\\stats.py:694: UserWarning: Estimated shape parameter of Pareto distribution is greater than 0.7 for one or more samples. You should consider using a more robust model, this is because importance sampling is less likely to work well if the marginal posterior and LOO posterior are very different. This is more likely to happen with a non-robust model and highly influential observations.\n",
      "  warnings.warn(\n",
      "e:\\Programy\\anconda3\\envs\\data_env\\lib\\site-packages\\arviz\\stats\\stats.py:248: FutureWarning: The frame.append method is deprecated and will be removed from pandas in a future version. Use pandas.concat instead.\n",
      "  ics = ics.append([ic_func(dataset, pointwise=True, scale=scale, var_name=var_name)])\n",
      "e:\\Programy\\anconda3\\envs\\data_env\\lib\\site-packages\\arviz\\stats\\stats.py:248: FutureWarning: The frame.append method is deprecated and will be removed from pandas in a future version. Use pandas.concat instead.\n",
      "  ics = ics.append([ic_func(dataset, pointwise=True, scale=scale, var_name=var_name)])\n"
     ]
    }
   ],
   "source": [
    "model_compare_loo = az.compare(dataset_dict ={\n",
    "    'Normal model':arviz_result_normal, \n",
    "    'Student-t model':arviz_result_student\n",
    "    })"
   ]
  },
  {
   "cell_type": "code",
   "execution_count": 56,
   "metadata": {},
   "outputs": [
    {
     "data": {
      "text/html": [
       "<div>\n",
       "<style scoped>\n",
       "    .dataframe tbody tr th:only-of-type {\n",
       "        vertical-align: middle;\n",
       "    }\n",
       "\n",
       "    .dataframe tbody tr th {\n",
       "        vertical-align: top;\n",
       "    }\n",
       "\n",
       "    .dataframe thead th {\n",
       "        text-align: right;\n",
       "    }\n",
       "</style>\n",
       "<table border=\"1\" class=\"dataframe\">\n",
       "  <thead>\n",
       "    <tr style=\"text-align: right;\">\n",
       "      <th></th>\n",
       "      <th>rank</th>\n",
       "      <th>loo</th>\n",
       "      <th>p_loo</th>\n",
       "      <th>d_loo</th>\n",
       "      <th>weight</th>\n",
       "      <th>se</th>\n",
       "      <th>dse</th>\n",
       "      <th>warning</th>\n",
       "      <th>loo_scale</th>\n",
       "    </tr>\n",
       "  </thead>\n",
       "  <tbody>\n",
       "    <tr>\n",
       "      <th>Student-t model</th>\n",
       "      <td>0</td>\n",
       "      <td>-2274.223242</td>\n",
       "      <td>4.907528</td>\n",
       "      <td>0.000000</td>\n",
       "      <td>0.920275</td>\n",
       "      <td>18.600772</td>\n",
       "      <td>0.000000</td>\n",
       "      <td>False</td>\n",
       "      <td>log</td>\n",
       "    </tr>\n",
       "    <tr>\n",
       "      <th>Normal model</th>\n",
       "      <td>1</td>\n",
       "      <td>-2317.005887</td>\n",
       "      <td>10.073639</td>\n",
       "      <td>42.782645</td>\n",
       "      <td>0.079725</td>\n",
       "      <td>36.244361</td>\n",
       "      <td>25.320937</td>\n",
       "      <td>True</td>\n",
       "      <td>log</td>\n",
       "    </tr>\n",
       "  </tbody>\n",
       "</table>\n",
       "</div>"
      ],
      "text/plain": [
       "                 rank          loo      p_loo      d_loo    weight         se  \\\n",
       "Student-t model     0 -2274.223242   4.907528   0.000000  0.920275  18.600772   \n",
       "Normal model        1 -2317.005887  10.073639  42.782645  0.079725  36.244361   \n",
       "\n",
       "                       dse  warning loo_scale  \n",
       "Student-t model   0.000000    False       log  \n",
       "Normal model     25.320937     True       log  "
      ]
     },
     "execution_count": 56,
     "metadata": {},
     "output_type": "execute_result"
    }
   ],
   "source": [
    "model_compare_loo"
   ]
  },
  {
   "cell_type": "markdown",
   "metadata": {},
   "source": [
    "Parameters: <br>\n",
    "rank - indicates which model is better (rank 0 is the best model) - Student-t model performes better than normal model <br>\n",
    "loo - Information Criterion, higher loo indicates higher out-of-sample predictive fit (\"better model\") - Studen-t performes better <br>\n",
    "p_loo - Estimated effective number of parameters <br>\n",
    "d_loo - Relative difference between each loo <br>\n",
    "weight - Relative weight for each model (probability of each model given data) <br>\n",
    "se - Standard error of the IC estimate <br>\n",
    "dse - Standard error of the difference in IC between each model and the top-ranked model. <br>"
   ]
  },
  {
   "cell_type": "code",
   "execution_count": 62,
   "metadata": {},
   "outputs": [
    {
     "data": {
      "image/png": "[encoded data removed]",
      "text/plain": [
       "<Figure size 432x144 with 1 Axes>"
      ]
     },
     "metadata": {
      "needs_background": "light"
     },
     "output_type": "display_data"
    }
   ],
   "source": [
    "az.plot_compare(model_compare_loo)\n",
    "plt.show()"
   ]
  },
  {
   "cell_type": "markdown",
   "metadata": {},
   "source": [
    "Open black dot - value of LOO <br>\n",
    "Filled black dot - LOO + p_loo <br>\n",
    "Line size - 2 * SE (Standard Error) <br>\n",
    "Distance between filled black dots - d_loo <br>\n",
    "Line with traingle - error of the best model showed for better comparision visualization"
   ]
  },
  {
   "cell_type": "markdown",
   "metadata": {},
   "source": [
    "Conclusions - clearlu winner jest [Szpila]"
   ]
  },
  {
   "cell_type": "markdown",
   "metadata": {},
   "source": [
    "WAIC - widely applicable information criterion"
   ]
  },
  {
   "cell_type": "code",
   "execution_count": 58,
   "metadata": {},
   "outputs": [
    {
     "name": "stderr",
     "output_type": "stream",
     "text": [
      "e:\\Programy\\anconda3\\envs\\data_env\\lib\\site-packages\\arviz\\stats\\stats.py:1458: UserWarning: For one or more samples the posterior variance of the log predictive densities exceeds 0.4. This could be indication of WAIC starting to fail. \n",
      "See http://arxiv.org/abs/1507.04544 for details\n",
      "  warnings.warn(\n",
      "e:\\Programy\\anconda3\\envs\\data_env\\lib\\site-packages\\arviz\\stats\\stats.py:248: FutureWarning: The frame.append method is deprecated and will be removed from pandas in a future version. Use pandas.concat instead.\n",
      "  ics = ics.append([ic_func(dataset, pointwise=True, scale=scale, var_name=var_name)])\n",
      "e:\\Programy\\anconda3\\envs\\data_env\\lib\\site-packages\\arviz\\stats\\stats.py:1458: UserWarning: For one or more samples the posterior variance of the log predictive densities exceeds 0.4. This could be indication of WAIC starting to fail. \n",
      "See http://arxiv.org/abs/1507.04544 for details\n",
      "  warnings.warn(\n",
      "e:\\Programy\\anconda3\\envs\\data_env\\lib\\site-packages\\arviz\\stats\\stats.py:248: FutureWarning: The frame.append method is deprecated and will be removed from pandas in a future version. Use pandas.concat instead.\n",
      "  ics = ics.append([ic_func(dataset, pointwise=True, scale=scale, var_name=var_name)])\n"
     ]
    }
   ],
   "source": [
    "model_compare_waic = az.compare(dataset_dict ={\n",
    "    'Normal model':arviz_result_normal, \n",
    "    'Student-t model':arviz_result_student\n",
    "    }, ic=\"waic\")"
   ]
  },
  {
   "cell_type": "code",
   "execution_count": 59,
   "metadata": {},
   "outputs": [
    {
     "data": {
      "text/html": [
       "<div>\n",
       "<style scoped>\n",
       "    .dataframe tbody tr th:only-of-type {\n",
       "        vertical-align: middle;\n",
       "    }\n",
       "\n",
       "    .dataframe tbody tr th {\n",
       "        vertical-align: top;\n",
       "    }\n",
       "\n",
       "    .dataframe thead th {\n",
       "        text-align: right;\n",
       "    }\n",
       "</style>\n",
       "<table border=\"1\" class=\"dataframe\">\n",
       "  <thead>\n",
       "    <tr style=\"text-align: right;\">\n",
       "      <th></th>\n",
       "      <th>rank</th>\n",
       "      <th>waic</th>\n",
       "      <th>p_waic</th>\n",
       "      <th>d_waic</th>\n",
       "      <th>weight</th>\n",
       "      <th>se</th>\n",
       "      <th>dse</th>\n",
       "      <th>warning</th>\n",
       "      <th>waic_scale</th>\n",
       "    </tr>\n",
       "  </thead>\n",
       "  <tbody>\n",
       "    <tr>\n",
       "      <th>Student-t model</th>\n",
       "      <td>0</td>\n",
       "      <td>-2274.176214</td>\n",
       "      <td>4.860499</td>\n",
       "      <td>0.000000</td>\n",
       "      <td>0.920266</td>\n",
       "      <td>18.580418</td>\n",
       "      <td>0.000000</td>\n",
       "      <td>True</td>\n",
       "      <td>log</td>\n",
       "    </tr>\n",
       "    <tr>\n",
       "      <th>Normal model</th>\n",
       "      <td>1</td>\n",
       "      <td>-2316.498830</td>\n",
       "      <td>9.566582</td>\n",
       "      <td>42.322616</td>\n",
       "      <td>0.079734</td>\n",
       "      <td>35.795364</td>\n",
       "      <td>24.885564</td>\n",
       "      <td>True</td>\n",
       "      <td>log</td>\n",
       "    </tr>\n",
       "  </tbody>\n",
       "</table>\n",
       "</div>"
      ],
      "text/plain": [
       "                 rank         waic    p_waic     d_waic    weight         se  \\\n",
       "Student-t model     0 -2274.176214  4.860499   0.000000  0.920266  18.580418   \n",
       "Normal model        1 -2316.498830  9.566582  42.322616  0.079734  35.795364   \n",
       "\n",
       "                       dse  warning waic_scale  \n",
       "Student-t model   0.000000     True        log  \n",
       "Normal model     24.885564     True        log  "
      ]
     },
     "execution_count": 59,
     "metadata": {},
     "output_type": "execute_result"
    }
   ],
   "source": [
    "model_compare_waic"
   ]
  },
  {
   "cell_type": "markdown",
   "metadata": {},
   "source": [
    "Parameters: <br>\n",
    "rank - indicates which model is better (rank 0 is the best model) - Student-t model performes better than normal model <br>\n",
    "waic - Information Criterion, higher waic indicates higher out-of-sample predictive fit (\"better model\") - Studen-t performes better <br>\n",
    "p_waic - Estimated effective number of parameters <br>\n",
    "d_waic - Relative difference between each waic <br>\n",
    "weight - Relative weight for each model (probability of each model given data) <br>\n",
    "se - Standard error of the IC estimate <br>\n",
    "dse - Standard error of the difference in IC between each model and the top-ranked model. <br>"
   ]
  },
  {
   "cell_type": "code",
   "execution_count": 60,
   "metadata": {},
   "outputs": [
    {
     "data": {
      "image/png": "[encoded data removed]",
      "text/plain": [
       "<Figure size 432x144 with 1 Axes>"
      ]
     },
     "metadata": {
      "needs_background": "light"
     },
     "output_type": "display_data"
    }
   ],
   "source": [
    "az.plot_compare(model_compare_waic)\n",
    "plt.show()"
   ]
  },
  {
   "cell_type": "markdown",
   "metadata": {},
   "source": [
    "Open black dot - value of waic <br>\n",
    "Filled black dot - waic + p_waic <br>\n",
    "Line size - 2 * SE (Standard Error) <br>\n",
    "Distance between filled black dots - d_waic <br>\n",
    "Line with traingle - error of the best model showed for better comparision visualization"
   ]
  },
  {
   "cell_type": "markdown",
   "metadata": {},
   "source": [
    "[Szpila] Conculsions like in loo"
   ]
  },
  {
   "cell_type": "markdown",
   "metadata": {},
   "source": [
    "## General conclusion [Szpila, Pecio]"
   ]
  }
 ],
 "metadata": {
  "interpreter": {
   "hash": "a4dd6d1262418fb5ba5186a9881067ae59d2d856a4683106776c6f088c4d6494"
  },
  "kernelspec": {
   "display_name": "Python 3.9.0 ('data_env')",
   "language": "python",
   "name": "python3"
  },
  "language_info": {
   "codemirror_mode": {
    "name": "ipython",
    "version": 3
   },
   "file_extension": ".py",
   "mimetype": "text/x-python",
   "name": "python",
   "nbconvert_exporter": "python",
   "pygments_lexer": "ipython3",
   "version": "3.9.0"
  },
  "orig_nbformat": 4
 },
 "nbformat": 4,
 "nbformat_minor": 2
}
