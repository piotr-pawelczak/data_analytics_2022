{
 "cells": [
  {
   "cell_type": "markdown",
   "metadata": {},
   "source": [
    "Project Checklist (To delete later)\n",
    "\n",
    "<br>\n",
    "Model [0-4 pts]<br>\n",
    "-are two different models specified [1 pt]<br>\n",
    "-are difference between two models explained [1 pt]<br>\n",
    "-is the difference in the models justified (e.g. does adding aditional parameter makes sense? ) [1 pt]<br>\n",
    "-are models sufficiently described (what are formulas, what are parameters, what data are required ) [1 pt]<br>\n",
    "<br>\n",
    "\n",
    "<br>\n",
    "Posterior analysis (model 1) [0-4 pts]<br>\n",
    "-were there any issues with the sampling? if there were what kind of ideas for mitigation were used [1 pt]<br>\n",
    "-are the samples from posterior predictive distribution analyzed [1 pt]<br>\n",
    "-are the data consistent with posterior predictive samples and is it sufficiently commented (if they are not then is the justification provided)<br>\n",
    "-have parameter marginal disrtibutions been analyzed (histograms of individual parametes plus summaries, are they diffuse or concentrated, what can we say about values) [1 pt]<br>\n",
    "<br>\n",
    "Posterior analysis (model 2) [0-4 pts]<br>\n",
    "-were there any issues with the sampling? if there were what kind of ideas for mitigation were used [1 pt]<br>\n",
    "-are the samples from posterior predictive distribution analyzed [1 pt]<br>\n",
    "-are the data consistent with posterior predictive samples and is it sufficiently commented (if they are not then is the justification provided)<br>\n",
    "-have parameter marginal disrtibutions been analyzed (histograms of individual parametes plus summaries, are they diffuse or concentrated, what can we say about values) [1 pt]<br>\n",
    "<br>\n",
    "Model comaprison [0-4 pts]<br>\n",
    "-Have models been compared using information criteria [1 pt]<br>\n",
    "-Have result for WAIC been discussed (is there a clear winner, or is there an overlap, were there any warnings) [1 pt]<br>\n",
    "-Have result for PSIS-LOO been discussed (is there a clear winner, or is there an overlap, were there any warnings) [1 pt]<br>\n",
    "-Whas the model comparison discussed? Do authors agree with information criteria? Why in your opinion one model better than another [1 pt]<br>"
   ]
  },
  {
   "cell_type": "markdown",
   "metadata": {},
   "source": [
    "## Data Analytics final project <br>\n",
    "Authors: Piotr Pawełczak, Mateusz Pilecki"
   ]
  },
  {
   "cell_type": "markdown",
   "metadata": {},
   "source": [
    "#### Project formulation <br>\n",
    "\n",
    "-is the problem clearly stated [1 pt] <br>\n",
    "-what is the point of creating model, are potential use cases defined [1 pt] <br>"
   ]
  },
  {
   "cell_type": "markdown",
   "metadata": {},
   "source": [
    "#### Data import and preprocessing"
   ]
  },
  {
   "cell_type": "markdown",
   "metadata": {},
   "source": [
    "Dataset comes from https://www.kaggle.com/datasets/beksultankarimov/warsaw-flat-rent-prices. <br>\n",
    "In the link there is data collected by person, who lives in Warsaw and wanted to rent a flat. <br>\n",
    "Source of the data is page www.otodom.pl"
   ]
  },
  {
   "cell_type": "code",
   "execution_count": 122,
   "metadata": {},
   "outputs": [],
   "source": [
    "# Import libraries to handle data\n",
    "import pandas as pd"
   ]
  },
  {
   "cell_type": "code",
   "execution_count": 123,
   "metadata": {},
   "outputs": [
    {
     "data": {
      "text/plain": [
       "Index(['web-scraper-order', 'web-scraper-start-url', 'offer_url',\n",
       "       'offer_url-href', 'location', 'net_price', 'deposit', 'area',\n",
       "       'room_num', 'build_type', 'floor', 'total_floor', 'build_mat',\n",
       "       'windows', 'heating', 'year_built', 'status', 'agd', 'security',\n",
       "       'add_info', 'rest_info', 'offer_ID', 'next_pagination',\n",
       "       'next_pagination-href', 'add_cost', 'offer_last_update', 'second_page',\n",
       "       'second_page-href', 'third_page', 'third_page-href'],\n",
       "      dtype='object')"
      ]
     },
     "execution_count": 123,
     "metadata": {},
     "output_type": "execute_result"
    }
   ],
   "source": [
    "# Load and visualizate data\n",
    "raw_data = pd.read_csv('otodom_complete.csv')\n",
    "raw_data.columns"
   ]
  },
  {
   "cell_type": "code",
   "execution_count": 124,
   "metadata": {},
   "outputs": [
    {
     "data": {
      "text/html": [
       "<div>\n",
       "<style scoped>\n",
       "    .dataframe tbody tr th:only-of-type {\n",
       "        vertical-align: middle;\n",
       "    }\n",
       "\n",
       "    .dataframe tbody tr th {\n",
       "        vertical-align: top;\n",
       "    }\n",
       "\n",
       "    .dataframe thead th {\n",
       "        text-align: right;\n",
       "    }\n",
       "</style>\n",
       "<table border=\"1\" class=\"dataframe\">\n",
       "  <thead>\n",
       "    <tr style=\"text-align: right;\">\n",
       "      <th></th>\n",
       "      <th>web-scraper-order</th>\n",
       "      <th>web-scraper-start-url</th>\n",
       "      <th>offer_url</th>\n",
       "      <th>offer_url-href</th>\n",
       "      <th>location</th>\n",
       "      <th>net_price</th>\n",
       "      <th>deposit</th>\n",
       "      <th>area</th>\n",
       "      <th>room_num</th>\n",
       "      <th>build_type</th>\n",
       "      <th>...</th>\n",
       "      <th>rest_info</th>\n",
       "      <th>offer_ID</th>\n",
       "      <th>next_pagination</th>\n",
       "      <th>next_pagination-href</th>\n",
       "      <th>add_cost</th>\n",
       "      <th>offer_last_update</th>\n",
       "      <th>second_page</th>\n",
       "      <th>second_page-href</th>\n",
       "      <th>third_page</th>\n",
       "      <th>third_page-href</th>\n",
       "    </tr>\n",
       "  </thead>\n",
       "  <tbody>\n",
       "    <tr>\n",
       "      <th>0</th>\n",
       "      <td>1612265907-2487</td>\n",
       "      <td>https://www.otodom.pl/wynajem/mieszkanie/warsz...</td>\n",
       "      <td>37 m²\\n                    \\n                 ...</td>\n",
       "      <td>https://www.otodom.pl/pl/oferta/wynajme-od-zar...</td>\n",
       "      <td>Warszawa, Włochy, ul. 1 Sierpnia</td>\n",
       "      <td>2 100 zł</td>\n",
       "      <td>Kaucja:2 100 zł</td>\n",
       "      <td>Powierzchnia:37 m²</td>\n",
       "      <td>Liczba pokoi:2</td>\n",
       "      <td>NaN</td>\n",
       "      <td>...</td>\n",
       "      <td>klimatyzacja</td>\n",
       "      <td>Nr oferty w Otodom: 61451923</td>\n",
       "      <td>NaN</td>\n",
       "      <td>https://www.otodom.pl/wynajem/mieszkanie/warsz...</td>\n",
       "      <td>NaN</td>\n",
       "      <td>Data aktualizacji: 3 dni temu</td>\n",
       "      <td>NaN</td>\n",
       "      <td>NaN</td>\n",
       "      <td>NaN</td>\n",
       "      <td>NaN</td>\n",
       "    </tr>\n",
       "    <tr>\n",
       "      <th>1</th>\n",
       "      <td>1612264314-1965</td>\n",
       "      <td>https://www.otodom.pl/wynajem/mieszkanie/warsz...</td>\n",
       "      <td>38 m²\\n                    \\n                 ...</td>\n",
       "      <td>https://www.otodom.pl/pl/oferta/2-pokoje-tanio...</td>\n",
       "      <td>Warszawa, Mokotów, ul. Suwak 11</td>\n",
       "      <td>1 825 zł</td>\n",
       "      <td>Kaucja:3 400 zł</td>\n",
       "      <td>Powierzchnia:38 m²</td>\n",
       "      <td>Liczba pokoi:2</td>\n",
       "      <td>Rodzaj zabudowy:blok</td>\n",
       "      <td>...</td>\n",
       "      <td>garaż/miejsce parkingowewindapom. użytkowe</td>\n",
       "      <td>Nr oferty w Otodom: 61405987</td>\n",
       "      <td>NaN</td>\n",
       "      <td>https://www.otodom.pl/wynajem/mieszkanie/warsz...</td>\n",
       "      <td>Czynsz - dodatkowo:350 zł</td>\n",
       "      <td>Data aktualizacji: 2 dni temu</td>\n",
       "      <td>NaN</td>\n",
       "      <td>NaN</td>\n",
       "      <td>NaN</td>\n",
       "      <td>NaN</td>\n",
       "    </tr>\n",
       "    <tr>\n",
       "      <th>2</th>\n",
       "      <td>1612263242-1616</td>\n",
       "      <td>https://www.otodom.pl/wynajem/mieszkanie/warsz...</td>\n",
       "      <td>57 m²\\n                    \\n                 ...</td>\n",
       "      <td>https://www.otodom.pl/pl/oferta/wynajme-mieszk...</td>\n",
       "      <td>Warszawa, Bielany, ul. Kwitnąca</td>\n",
       "      <td>3 300 zł</td>\n",
       "      <td>Kaucja:3 300 zł</td>\n",
       "      <td>Powierzchnia:57 m²</td>\n",
       "      <td>Liczba pokoi:3</td>\n",
       "      <td>Rodzaj zabudowy:blok</td>\n",
       "      <td>...</td>\n",
       "      <td>balkontylko dla niepalącychoddzielna kuchnia</td>\n",
       "      <td>Nr oferty w Otodom: 61375474</td>\n",
       "      <td>NaN</td>\n",
       "      <td>https://www.otodom.pl/wynajem/mieszkanie/warsz...</td>\n",
       "      <td>Czynsz - dodatkowo:1 zł</td>\n",
       "      <td>Data aktualizacji: 22 dni temu</td>\n",
       "      <td>NaN</td>\n",
       "      <td>NaN</td>\n",
       "      <td>NaN</td>\n",
       "      <td>NaN</td>\n",
       "    </tr>\n",
       "    <tr>\n",
       "      <th>3</th>\n",
       "      <td>1612265477-2346</td>\n",
       "      <td>https://www.otodom.pl/wynajem/mieszkanie/warsz...</td>\n",
       "      <td>63 m²\\n                    \\n                 ...</td>\n",
       "      <td>https://www.otodom.pl/pl/oferta/zielone-zacisz...</td>\n",
       "      <td>Warszawa, Targówek, ul. św. Wincentego</td>\n",
       "      <td>2 200 zł</td>\n",
       "      <td>NaN</td>\n",
       "      <td>Powierzchnia:63 m²</td>\n",
       "      <td>Liczba pokoi:2</td>\n",
       "      <td>Rodzaj zabudowy:blok</td>\n",
       "      <td>...</td>\n",
       "      <td>NaN</td>\n",
       "      <td>Nr oferty w Otodom: 61439492</td>\n",
       "      <td>NaN</td>\n",
       "      <td>https://www.otodom.pl/wynajem/mieszkanie/warsz...</td>\n",
       "      <td>NaN</td>\n",
       "      <td>Data aktualizacji: 5 dni temu</td>\n",
       "      <td>NaN</td>\n",
       "      <td>NaN</td>\n",
       "      <td>NaN</td>\n",
       "      <td>NaN</td>\n",
       "    </tr>\n",
       "    <tr>\n",
       "      <th>4</th>\n",
       "      <td>1612266187-2579</td>\n",
       "      <td>https://www.otodom.pl/wynajem/mieszkanie/warsz...</td>\n",
       "      <td>65 m²\\n                    \\n                 ...</td>\n",
       "      <td>https://www.otodom.pl/pl/oferta/eleganckie-mie...</td>\n",
       "      <td>Warszawa, Ochota, Stara Ochota, ul. Juliana Ur...</td>\n",
       "      <td>3 000 zł</td>\n",
       "      <td>Kaucja:3 000 zł</td>\n",
       "      <td>Powierzchnia:65 m²</td>\n",
       "      <td>Liczba pokoi:3</td>\n",
       "      <td>Rodzaj zabudowy:kamienica</td>\n",
       "      <td>...</td>\n",
       "      <td>NaN</td>\n",
       "      <td>Nr oferty w Otodom: 61455072</td>\n",
       "      <td>NaN</td>\n",
       "      <td>NaN</td>\n",
       "      <td>NaN</td>\n",
       "      <td>Data aktualizacji: 2 dni temu</td>\n",
       "      <td>NaN</td>\n",
       "      <td>NaN</td>\n",
       "      <td>NaN</td>\n",
       "      <td>NaN</td>\n",
       "    </tr>\n",
       "  </tbody>\n",
       "</table>\n",
       "<p>5 rows × 30 columns</p>\n",
       "</div>"
      ],
      "text/plain": [
       "  web-scraper-order                              web-scraper-start-url  \\\n",
       "0   1612265907-2487  https://www.otodom.pl/wynajem/mieszkanie/warsz...   \n",
       "1   1612264314-1965  https://www.otodom.pl/wynajem/mieszkanie/warsz...   \n",
       "2   1612263242-1616  https://www.otodom.pl/wynajem/mieszkanie/warsz...   \n",
       "3   1612265477-2346  https://www.otodom.pl/wynajem/mieszkanie/warsz...   \n",
       "4   1612266187-2579  https://www.otodom.pl/wynajem/mieszkanie/warsz...   \n",
       "\n",
       "                                           offer_url  \\\n",
       "0  37 m²\\n                    \\n                 ...   \n",
       "1  38 m²\\n                    \\n                 ...   \n",
       "2  57 m²\\n                    \\n                 ...   \n",
       "3  63 m²\\n                    \\n                 ...   \n",
       "4  65 m²\\n                    \\n                 ...   \n",
       "\n",
       "                                      offer_url-href  \\\n",
       "0  https://www.otodom.pl/pl/oferta/wynajme-od-zar...   \n",
       "1  https://www.otodom.pl/pl/oferta/2-pokoje-tanio...   \n",
       "2  https://www.otodom.pl/pl/oferta/wynajme-mieszk...   \n",
       "3  https://www.otodom.pl/pl/oferta/zielone-zacisz...   \n",
       "4  https://www.otodom.pl/pl/oferta/eleganckie-mie...   \n",
       "\n",
       "                                            location net_price  \\\n",
       "0                   Warszawa, Włochy, ul. 1 Sierpnia  2 100 zł   \n",
       "1                    Warszawa, Mokotów, ul. Suwak 11  1 825 zł   \n",
       "2                    Warszawa, Bielany, ul. Kwitnąca  3 300 zł   \n",
       "3             Warszawa, Targówek, ul. św. Wincentego  2 200 zł   \n",
       "4  Warszawa, Ochota, Stara Ochota, ul. Juliana Ur...  3 000 zł   \n",
       "\n",
       "           deposit                area        room_num  \\\n",
       "0  Kaucja:2 100 zł  Powierzchnia:37 m²  Liczba pokoi:2   \n",
       "1  Kaucja:3 400 zł  Powierzchnia:38 m²  Liczba pokoi:2   \n",
       "2  Kaucja:3 300 zł  Powierzchnia:57 m²  Liczba pokoi:3   \n",
       "3              NaN  Powierzchnia:63 m²  Liczba pokoi:2   \n",
       "4  Kaucja:3 000 zł  Powierzchnia:65 m²  Liczba pokoi:3   \n",
       "\n",
       "                  build_type  ...  \\\n",
       "0                        NaN  ...   \n",
       "1       Rodzaj zabudowy:blok  ...   \n",
       "2       Rodzaj zabudowy:blok  ...   \n",
       "3       Rodzaj zabudowy:blok  ...   \n",
       "4  Rodzaj zabudowy:kamienica  ...   \n",
       "\n",
       "                                      rest_info                      offer_ID  \\\n",
       "0                                  klimatyzacja  Nr oferty w Otodom: 61451923   \n",
       "1    garaż/miejsce parkingowewindapom. użytkowe  Nr oferty w Otodom: 61405987   \n",
       "2  balkontylko dla niepalącychoddzielna kuchnia  Nr oferty w Otodom: 61375474   \n",
       "3                                           NaN  Nr oferty w Otodom: 61439492   \n",
       "4                                           NaN  Nr oferty w Otodom: 61455072   \n",
       "\n",
       "  next_pagination                               next_pagination-href  \\\n",
       "0             NaN  https://www.otodom.pl/wynajem/mieszkanie/warsz...   \n",
       "1             NaN  https://www.otodom.pl/wynajem/mieszkanie/warsz...   \n",
       "2             NaN  https://www.otodom.pl/wynajem/mieszkanie/warsz...   \n",
       "3             NaN  https://www.otodom.pl/wynajem/mieszkanie/warsz...   \n",
       "4             NaN                                                NaN   \n",
       "\n",
       "                    add_cost               offer_last_update second_page  \\\n",
       "0                        NaN   Data aktualizacji: 3 dni temu         NaN   \n",
       "1  Czynsz - dodatkowo:350 zł   Data aktualizacji: 2 dni temu         NaN   \n",
       "2    Czynsz - dodatkowo:1 zł  Data aktualizacji: 22 dni temu         NaN   \n",
       "3                        NaN   Data aktualizacji: 5 dni temu         NaN   \n",
       "4                        NaN   Data aktualizacji: 2 dni temu         NaN   \n",
       "\n",
       "  second_page-href third_page third_page-href  \n",
       "0              NaN        NaN             NaN  \n",
       "1              NaN        NaN             NaN  \n",
       "2              NaN        NaN             NaN  \n",
       "3              NaN        NaN             NaN  \n",
       "4              NaN        NaN             NaN  \n",
       "\n",
       "[5 rows x 30 columns]"
      ]
     },
     "execution_count": 124,
     "metadata": {},
     "output_type": "execute_result"
    }
   ],
   "source": [
    "raw_data.head()"
   ]
  },
  {
   "cell_type": "markdown",
   "metadata": {},
   "source": [
    "Dataset contains various parameters such as offert_url, location, price netto, deposit, area, <br>\n",
    "aditional features of flat (such as air conditioning, alarm system, type of building)."
   ]
  },
  {
   "cell_type": "markdown",
   "metadata": {},
   "source": [
    "#### Preprocessing"
   ]
  },
  {
   "cell_type": "markdown",
   "metadata": {},
   "source": [
    "In our case we want to find relation between area of flat and price. Area can be selected from column 'offer_url'. <br>\n",
    "Informations about price are located in columns 'net_price' and 'add_cost'."
   ]
  },
  {
   "cell_type": "code",
   "execution_count": 125,
   "metadata": {},
   "outputs": [
    {
     "data": {
      "text/html": [
       "<div>\n",
       "<style scoped>\n",
       "    .dataframe tbody tr th:only-of-type {\n",
       "        vertical-align: middle;\n",
       "    }\n",
       "\n",
       "    .dataframe tbody tr th {\n",
       "        vertical-align: top;\n",
       "    }\n",
       "\n",
       "    .dataframe thead th {\n",
       "        text-align: right;\n",
       "    }\n",
       "</style>\n",
       "<table border=\"1\" class=\"dataframe\">\n",
       "  <thead>\n",
       "    <tr style=\"text-align: right;\">\n",
       "      <th></th>\n",
       "      <th>offer_url</th>\n",
       "      <th>net_price</th>\n",
       "      <th>add_cost</th>\n",
       "    </tr>\n",
       "  </thead>\n",
       "  <tbody>\n",
       "    <tr>\n",
       "      <th>0</th>\n",
       "      <td>37 m²\\n                    \\n                 ...</td>\n",
       "      <td>2 100 zł</td>\n",
       "      <td>NaN</td>\n",
       "    </tr>\n",
       "    <tr>\n",
       "      <th>1</th>\n",
       "      <td>38 m²\\n                    \\n                 ...</td>\n",
       "      <td>1 825 zł</td>\n",
       "      <td>Czynsz - dodatkowo:350 zł</td>\n",
       "    </tr>\n",
       "    <tr>\n",
       "      <th>2</th>\n",
       "      <td>57 m²\\n                    \\n                 ...</td>\n",
       "      <td>3 300 zł</td>\n",
       "      <td>Czynsz - dodatkowo:1 zł</td>\n",
       "    </tr>\n",
       "    <tr>\n",
       "      <th>3</th>\n",
       "      <td>63 m²\\n                    \\n                 ...</td>\n",
       "      <td>2 200 zł</td>\n",
       "      <td>NaN</td>\n",
       "    </tr>\n",
       "    <tr>\n",
       "      <th>4</th>\n",
       "      <td>65 m²\\n                    \\n                 ...</td>\n",
       "      <td>3 000 zł</td>\n",
       "      <td>NaN</td>\n",
       "    </tr>\n",
       "  </tbody>\n",
       "</table>\n",
       "</div>"
      ],
      "text/plain": [
       "                                           offer_url net_price  \\\n",
       "0  37 m²\\n                    \\n                 ...  2 100 zł   \n",
       "1  38 m²\\n                    \\n                 ...  1 825 zł   \n",
       "2  57 m²\\n                    \\n                 ...  3 300 zł   \n",
       "3  63 m²\\n                    \\n                 ...  2 200 zł   \n",
       "4  65 m²\\n                    \\n                 ...  3 000 zł   \n",
       "\n",
       "                    add_cost  \n",
       "0                        NaN  \n",
       "1  Czynsz - dodatkowo:350 zł  \n",
       "2    Czynsz - dodatkowo:1 zł  \n",
       "3                        NaN  \n",
       "4                        NaN  "
      ]
     },
     "execution_count": 125,
     "metadata": {},
     "output_type": "execute_result"
    }
   ],
   "source": [
    "# Selecting important columns\n",
    "clipped_data = raw_data[['offer_url', 'net_price', 'add_cost']]\n",
    "clipped_data.head()"
   ]
  },
  {
   "cell_type": "code",
   "execution_count": 126,
   "metadata": {},
   "outputs": [],
   "source": [
    "# Extract area of flat\n",
    "data = pd.DataFrame()\n",
    "selected_area = clipped_data['offer_url'].str.split(' m', expand=True)[0]\n",
    "\n",
    "# Convert to numeric format \n",
    "selected_area = selected_area.str.replace(',', '.').astype(float)\n",
    "data['area'] = selected_area"
   ]
  },
  {
   "cell_type": "code",
   "execution_count": 127,
   "metadata": {},
   "outputs": [],
   "source": [
    "# Select net_price\n",
    "net_price = clipped_data['net_price'].str[:-3] # Remove currency info (PLN)\n",
    "net_price = net_price.str.replace(' ', '') # Remove white spaces\n",
    "net_price = net_price.str.replace(',', '.').astype(float) # Convert to float type\n",
    "data['net_price'] = net_price\n",
    "\n",
    "# Select additional cosst\n",
    "add_cost = clipped_data['add_cost'].str.split(':', expand=True)[1] # Select part with cost info\n",
    "add_cost = add_cost.str[:-3] # Remove currency info (PLN)\n",
    "add_cost = add_cost.str.replace(' ', '') # Remove white spaces\n",
    "add_cost = add_cost.str.replace(',', '.').astype(float) # Convert to float type\n",
    "\n",
    "data['add_cost'] = add_cost\n"
   ]
  },
  {
   "cell_type": "markdown",
   "metadata": {},
   "source": [
    "In result we get data with following structure"
   ]
  },
  {
   "cell_type": "code",
   "execution_count": 128,
   "metadata": {},
   "outputs": [
    {
     "data": {
      "text/html": [
       "<div>\n",
       "<style scoped>\n",
       "    .dataframe tbody tr th:only-of-type {\n",
       "        vertical-align: middle;\n",
       "    }\n",
       "\n",
       "    .dataframe tbody tr th {\n",
       "        vertical-align: top;\n",
       "    }\n",
       "\n",
       "    .dataframe thead th {\n",
       "        text-align: right;\n",
       "    }\n",
       "</style>\n",
       "<table border=\"1\" class=\"dataframe\">\n",
       "  <thead>\n",
       "    <tr style=\"text-align: right;\">\n",
       "      <th></th>\n",
       "      <th>area</th>\n",
       "      <th>net_price</th>\n",
       "      <th>add_cost</th>\n",
       "    </tr>\n",
       "  </thead>\n",
       "  <tbody>\n",
       "    <tr>\n",
       "      <th>0</th>\n",
       "      <td>37.0</td>\n",
       "      <td>2100.0</td>\n",
       "      <td>NaN</td>\n",
       "    </tr>\n",
       "    <tr>\n",
       "      <th>1</th>\n",
       "      <td>38.0</td>\n",
       "      <td>1825.0</td>\n",
       "      <td>350.0</td>\n",
       "    </tr>\n",
       "    <tr>\n",
       "      <th>2</th>\n",
       "      <td>57.0</td>\n",
       "      <td>3300.0</td>\n",
       "      <td>1.0</td>\n",
       "    </tr>\n",
       "    <tr>\n",
       "      <th>3</th>\n",
       "      <td>63.0</td>\n",
       "      <td>2200.0</td>\n",
       "      <td>NaN</td>\n",
       "    </tr>\n",
       "    <tr>\n",
       "      <th>4</th>\n",
       "      <td>65.0</td>\n",
       "      <td>3000.0</td>\n",
       "      <td>NaN</td>\n",
       "    </tr>\n",
       "  </tbody>\n",
       "</table>\n",
       "</div>"
      ],
      "text/plain": [
       "   area  net_price  add_cost\n",
       "0  37.0     2100.0       NaN\n",
       "1  38.0     1825.0     350.0\n",
       "2  57.0     3300.0       1.0\n",
       "3  63.0     2200.0       NaN\n",
       "4  65.0     3000.0       NaN"
      ]
     },
     "execution_count": 128,
     "metadata": {},
     "output_type": "execute_result"
    }
   ],
   "source": [
    "data.head()"
   ]
  },
  {
   "cell_type": "markdown",
   "metadata": {},
   "source": [
    "Information about data"
   ]
  },
  {
   "cell_type": "code",
   "execution_count": 129,
   "metadata": {},
   "outputs": [
    {
     "name": "stdout",
     "output_type": "stream",
     "text": [
      "<class 'pandas.core.frame.DataFrame'>\n",
      "RangeIndex: 3482 entries, 0 to 3481\n",
      "Data columns (total 3 columns):\n",
      " #   Column     Non-Null Count  Dtype  \n",
      "---  ------     --------------  -----  \n",
      " 0   area       3482 non-null   float64\n",
      " 1   net_price  3481 non-null   float64\n",
      " 2   add_cost   1915 non-null   float64\n",
      "dtypes: float64(3)\n",
      "memory usage: 81.7 KB\n"
     ]
    }
   ],
   "source": [
    "data.info()"
   ]
  },
  {
   "cell_type": "markdown",
   "metadata": {},
   "source": [
    "To clean data, rows with NaN in net_price will be deleted and NaN in add_cost will be replaced with 0"
   ]
  },
  {
   "cell_type": "code",
   "execution_count": 130,
   "metadata": {},
   "outputs": [],
   "source": [
    "data = data[pd.notnull(data['net_price'])]\n",
    "data['add_cost'] = data['add_cost'].fillna(0)"
   ]
  },
  {
   "cell_type": "code",
   "execution_count": 131,
   "metadata": {},
   "outputs": [],
   "source": [
    "# Convert data to integers\n",
    "data['area'] = data['area'].astype(int)\n",
    "data['net_price'] = data['net_price'].astype(int)\n",
    "data['add_cost'] = data['add_cost'].astype(int)\n",
    "\n",
    "# Calculate total price\n",
    "data['total_price'] = data['net_price'] + data['add_cost']\n",
    "\n",
    "# Save data to csv\n",
    "data.to_csv('cleaned_data.csv')"
   ]
  },
  {
   "cell_type": "code",
   "execution_count": 132,
   "metadata": {},
   "outputs": [],
   "source": [
    "# Filter data to reasonable values\n",
    "# data = data[data['area'] <= 100]\n",
    "# data = data[data['total_price'] <= 7500]\n"
   ]
  },
  {
   "cell_type": "code",
   "execution_count": 133,
   "metadata": {},
   "outputs": [
    {
     "data": {
      "text/html": [
       "<div>\n",
       "<style scoped>\n",
       "    .dataframe tbody tr th:only-of-type {\n",
       "        vertical-align: middle;\n",
       "    }\n",
       "\n",
       "    .dataframe tbody tr th {\n",
       "        vertical-align: top;\n",
       "    }\n",
       "\n",
       "    .dataframe thead th {\n",
       "        text-align: right;\n",
       "    }\n",
       "</style>\n",
       "<table border=\"1\" class=\"dataframe\">\n",
       "  <thead>\n",
       "    <tr style=\"text-align: right;\">\n",
       "      <th></th>\n",
       "      <th>area</th>\n",
       "      <th>net_price</th>\n",
       "      <th>add_cost</th>\n",
       "      <th>total_price</th>\n",
       "    </tr>\n",
       "  </thead>\n",
       "  <tbody>\n",
       "    <tr>\n",
       "      <th>0</th>\n",
       "      <td>37</td>\n",
       "      <td>2100</td>\n",
       "      <td>0</td>\n",
       "      <td>2100</td>\n",
       "    </tr>\n",
       "    <tr>\n",
       "      <th>1</th>\n",
       "      <td>38</td>\n",
       "      <td>1825</td>\n",
       "      <td>350</td>\n",
       "      <td>2175</td>\n",
       "    </tr>\n",
       "    <tr>\n",
       "      <th>2</th>\n",
       "      <td>57</td>\n",
       "      <td>3300</td>\n",
       "      <td>1</td>\n",
       "      <td>3301</td>\n",
       "    </tr>\n",
       "    <tr>\n",
       "      <th>3</th>\n",
       "      <td>63</td>\n",
       "      <td>2200</td>\n",
       "      <td>0</td>\n",
       "      <td>2200</td>\n",
       "    </tr>\n",
       "    <tr>\n",
       "      <th>4</th>\n",
       "      <td>65</td>\n",
       "      <td>3000</td>\n",
       "      <td>0</td>\n",
       "      <td>3000</td>\n",
       "    </tr>\n",
       "  </tbody>\n",
       "</table>\n",
       "</div>"
      ],
      "text/plain": [
       "   area  net_price  add_cost  total_price\n",
       "0    37       2100         0         2100\n",
       "1    38       1825       350         2175\n",
       "2    57       3300         1         3301\n",
       "3    63       2200         0         2200\n",
       "4    65       3000         0         3000"
      ]
     },
     "execution_count": 133,
     "metadata": {},
     "output_type": "execute_result"
    }
   ],
   "source": [
    "data.head()"
   ]
  },
  {
   "cell_type": "markdown",
   "metadata": {},
   "source": [
    "# Priors"
   ]
  },
  {
   "cell_type": "markdown",
   "metadata": {},
   "source": [
    "Priors [0-4 pts]<br>\n",
    "-Is it explained why particular priors for parameters were selected [1 pt]<br>\n",
    "-How prior parameters were selected [1 pt]<br>"
   ]
  },
  {
   "cell_type": "markdown",
   "metadata": {},
   "source": [
    "https://www.otodom.pl/pl/oferty/wynajem/mieszkanie/warszawa?by=PRICE&direction=ASC&page=1"
   ]
  },
  {
   "cell_type": "code",
   "execution_count": 134,
   "metadata": {},
   "outputs": [],
   "source": [
    "from cmdstanpy import CmdStanModel\n",
    "import numpy as np\n",
    "import matplotlib.pyplot as plt\n",
    "from DA_tools.DA_colors import *\n",
    "from DA_tools.DA_tools import ribbon_plot"
   ]
  },
  {
   "cell_type": "markdown",
   "metadata": {},
   "source": [
    "TODO: Describe ceneteing, predictor itd."
   ]
  },
  {
   "cell_type": "code",
   "execution_count": 135,
   "metadata": {},
   "outputs": [],
   "source": [
    "data['c_area'] = data.area - data.area.mean()"
   ]
  },
  {
   "cell_type": "code",
   "execution_count": 136,
   "metadata": {},
   "outputs": [
    {
     "data": {
      "text/html": [
       "<div>\n",
       "<style scoped>\n",
       "    .dataframe tbody tr th:only-of-type {\n",
       "        vertical-align: middle;\n",
       "    }\n",
       "\n",
       "    .dataframe tbody tr th {\n",
       "        vertical-align: top;\n",
       "    }\n",
       "\n",
       "    .dataframe thead th {\n",
       "        text-align: right;\n",
       "    }\n",
       "</style>\n",
       "<table border=\"1\" class=\"dataframe\">\n",
       "  <thead>\n",
       "    <tr style=\"text-align: right;\">\n",
       "      <th></th>\n",
       "      <th>area</th>\n",
       "      <th>net_price</th>\n",
       "      <th>add_cost</th>\n",
       "      <th>total_price</th>\n",
       "      <th>c_area</th>\n",
       "    </tr>\n",
       "  </thead>\n",
       "  <tbody>\n",
       "    <tr>\n",
       "      <th>0</th>\n",
       "      <td>37</td>\n",
       "      <td>2100</td>\n",
       "      <td>0</td>\n",
       "      <td>2100</td>\n",
       "      <td>-8.841138</td>\n",
       "    </tr>\n",
       "    <tr>\n",
       "      <th>1</th>\n",
       "      <td>38</td>\n",
       "      <td>1825</td>\n",
       "      <td>350</td>\n",
       "      <td>2175</td>\n",
       "      <td>-7.841138</td>\n",
       "    </tr>\n",
       "    <tr>\n",
       "      <th>2</th>\n",
       "      <td>57</td>\n",
       "      <td>3300</td>\n",
       "      <td>1</td>\n",
       "      <td>3301</td>\n",
       "      <td>11.158862</td>\n",
       "    </tr>\n",
       "    <tr>\n",
       "      <th>3</th>\n",
       "      <td>63</td>\n",
       "      <td>2200</td>\n",
       "      <td>0</td>\n",
       "      <td>2200</td>\n",
       "      <td>17.158862</td>\n",
       "    </tr>\n",
       "    <tr>\n",
       "      <th>4</th>\n",
       "      <td>65</td>\n",
       "      <td>3000</td>\n",
       "      <td>0</td>\n",
       "      <td>3000</td>\n",
       "      <td>19.158862</td>\n",
       "    </tr>\n",
       "  </tbody>\n",
       "</table>\n",
       "</div>"
      ],
      "text/plain": [
       "   area  net_price  add_cost  total_price     c_area\n",
       "0    37       2100         0         2100  -8.841138\n",
       "1    38       1825       350         2175  -7.841138\n",
       "2    57       3300         1         3301  11.158862\n",
       "3    63       2200         0         2200  17.158862\n",
       "4    65       3000         0         3000  19.158862"
      ]
     },
     "execution_count": 136,
     "metadata": {},
     "output_type": "execute_result"
    }
   ],
   "source": [
    "data.head()"
   ]
  },
  {
   "cell_type": "markdown",
   "metadata": {},
   "source": [
    "TODO: Data for simulation / Prior Predictive Check"
   ]
  },
  {
   "cell_type": "code",
   "execution_count": 137,
   "metadata": {},
   "outputs": [],
   "source": [
    "N = 50\n",
    "area = np.linspace(data.c_area.min(), data.c_area.max(), N)\n",
    "data_sim = {'N': N, 'area': area}"
   ]
  },
  {
   "cell_type": "markdown",
   "metadata": {},
   "source": [
    "TODO: Compile and sample"
   ]
  },
  {
   "cell_type": "code",
   "execution_count": 138,
   "metadata": {},
   "outputs": [
    {
     "name": "stderr",
     "output_type": "stream",
     "text": [
      "INFO:cmdstanpy:found newer exe file, not recompiling\n",
      "INFO:cmdstanpy:CmdStan start processing\n",
      "chain 1 |\u001b[34m██████████\u001b[0m| 00:00 Sampling completed                      "
     ]
    },
    {
     "name": "stdout",
     "output_type": "stream",
     "text": [
      "                                                                                "
     ]
    },
    {
     "name": "stderr",
     "output_type": "stream",
     "text": [
      "\n",
      "INFO:cmdstanpy:CmdStan done processing.\n"
     ]
    },
    {
     "name": "stdout",
     "output_type": "stream",
     "text": [
      "\n"
     ]
    }
   ],
   "source": [
    "model_ppc = CmdStanModel(stan_file='linear_regression_ppc.stan')\n",
    "\n",
    "R = 1000\n",
    "sim=model_ppc.sample(data=data_sim, \n",
    "                     iter_sampling=R, \n",
    "                     iter_warmup=0, \n",
    "                     chains=1, \n",
    "                     refresh=R,\n",
    "                     fixed_param=True,\n",
    "                     seed=1)\n",
    "\n",
    "alpha_sim=sim.stan_variable('alpha')\n",
    "beta_sim=sim.stan_variable('beta')\n",
    "price_sim = sim.stan_variable('price')"
   ]
  },
  {
   "cell_type": "markdown",
   "metadata": {},
   "source": [
    "-Have prior predictive checks been done for parameters (are parameters simulated from priors make sense) [1 pt]<br>"
   ]
  },
  {
   "cell_type": "code",
   "execution_count": 139,
   "metadata": {},
   "outputs": [
    {
     "data": {
      "image/png": "[encoded data removed]",
      "text/plain": [
       "<Figure size 504x288 with 1 Axes>"
      ]
     },
     "metadata": {
      "needs_background": "light"
     },
     "output_type": "display_data"
    }
   ],
   "source": [
    "fig, axes = plt.subplots(1, 1, figsize=(7, 4))\n",
    "axes.hlines([0,8000],xmin=data.area.min(),xmax=data.area.max(),linestyle='--',color='black')\n",
    "for i in range(100):\n",
    "    axes.plot(data.area,alpha_sim[i]+beta_sim[i]*data.c_area,color=MID,alpha=0.5,linewidth=0.5)\n",
    "axes.set_xlabel('Area [$m^2$]')\n",
    "axes.set_ylabel('Price [PLN]')\n",
    "axes.set_title(r'Simulated data from given prior')\n",
    "plt.show()"
   ]
  },
  {
   "cell_type": "markdown",
   "metadata": {},
   "source": [
    "-Have prior predictive checks been done for measurements (are measurements simulated from priors make sense) [1 pt]<br>\n"
   ]
  },
  {
   "cell_type": "code",
   "execution_count": 140,
   "metadata": {},
   "outputs": [
    {
     "data": {
      "image/png": "[encoded data removed]",
      "text/plain": [
       "<Figure size 504x288 with 1 Axes>"
      ]
     },
     "metadata": {
      "needs_background": "light"
     },
     "output_type": "display_data"
    }
   ],
   "source": [
    "fig, axes = plt.subplots(1, 1, figsize=(7, 4))\n",
    "axes = ribbon_plot(data_sim['area'] + data.area.mean(), price_sim, axes)\n",
    "axes.scatter(data.area,data.total_price,color='black',alpha=0.2,s=5)\n",
    "plt.show()\n"
   ]
  },
  {
   "cell_type": "markdown",
   "metadata": {},
   "source": [
    "# Posterior"
   ]
  },
  {
   "cell_type": "code",
   "execution_count": 157,
   "metadata": {},
   "outputs": [
    {
     "name": "stderr",
     "output_type": "stream",
     "text": [
      "INFO:cmdstanpy:found newer exe file, not recompiling\n"
     ]
    }
   ],
   "source": [
    "model_fit = CmdStanModel(stan_file=\"linear_regression_fit.stan\")"
   ]
  },
  {
   "cell_type": "code",
   "execution_count": 158,
   "metadata": {},
   "outputs": [
    {
     "name": "stderr",
     "output_type": "stream",
     "text": [
      "INFO:cmdstanpy:CmdStan start processing\n",
      "chain 1 |\u001b[33m          \u001b[0m| 00:00 Status\n",
      "\u001b[A\n",
      "\n",
      "chain 1 |\u001b[33m███▋      \u001b[0m| 00:01 Iteration:  600 / 2000 [ 30%]  (Warmup)\n",
      "\n",
      "\u001b[A\u001b[A\n",
      "\u001b[A\n",
      "\n",
      "\u001b[A\u001b[A\n",
      "\u001b[A\n",
      "\n",
      "\u001b[A\u001b[A\n",
      "\u001b[A\n",
      "\n",
      "\u001b[A\u001b[A\n",
      "chain 1 |\u001b[34m█████▉    \u001b[0m| 00:01 Iteration: 1001 / 2000 [ 50%]  (Sampling)\n",
      "\n",
      "\u001b[A\u001b[A\n",
      "chain 1 |\u001b[34m██████▊   \u001b[0m| 00:02 Iteration: 1200 / 2000 [ 60%]  (Sampling)\n",
      "\n",
      "\u001b[A\u001b[A\n",
      "chain 1 |\u001b[34m███████▋  \u001b[0m| 00:03 Iteration: 1400 / 2000 [ 70%]  (Sampling)\n",
      "\n",
      "\u001b[A\u001b[A\n",
      "chain 1 |\u001b[34m████████▏ \u001b[0m| 00:03 Iteration: 1500 / 2000 [ 75%]  (Sampling)\n",
      "\n",
      "\u001b[A\u001b[A\n",
      "chain 1 |\u001b[34m████████▋ \u001b[0m| 00:04 Iteration: 1600 / 2000 [ 80%]  (Sampling)\n",
      "\n",
      "\u001b[A\u001b[A\n",
      "chain 1 |\u001b[34m█████████ \u001b[0m| 00:04 Iteration: 1700 / 2000 [ 85%]  (Sampling)\n",
      "\n",
      "\u001b[A\u001b[A\n",
      "chain 1 |\u001b[34m█████████▌\u001b[0m| 00:04 Iteration: 1800 / 2000 [ 90%]  (Sampling)\n",
      "\n",
      "chain 1 |\u001b[34m██████████\u001b[0m| 00:05 Iteration: 1900 / 2000 [ 95%]  (Sampling)\n",
      "\u001b[A\n",
      "\n",
      "\u001b[A\u001b[A\n",
      "chain 1 |\u001b[34m██████████\u001b[0m| 00:05 Sampling completed                       \n",
      "chain 2 |\u001b[34m██████████\u001b[0m| 00:05 Sampling completed                       \n",
      "chain 3 |\u001b[34m██████████\u001b[0m| 00:05 Sampling completed                       \n",
      "chain 4 |\u001b[34m██████████\u001b[0m| 00:05 Sampling completed                       "
     ]
    },
    {
     "name": "stdout",
     "output_type": "stream",
     "text": [
      "                                                                                                                                                                                                                                                                                                                                "
     ]
    },
    {
     "name": "stderr",
     "output_type": "stream",
     "text": [
      "\n",
      "INFO:cmdstanpy:CmdStan done processing.\n"
     ]
    },
    {
     "name": "stdout",
     "output_type": "stream",
     "text": [
      "\n"
     ]
    },
    {
     "data": {
      "text/html": [
       "<div>\n",
       "<style scoped>\n",
       "    .dataframe tbody tr th:only-of-type {\n",
       "        vertical-align: middle;\n",
       "    }\n",
       "\n",
       "    .dataframe tbody tr th {\n",
       "        vertical-align: top;\n",
       "    }\n",
       "\n",
       "    .dataframe thead th {\n",
       "        text-align: right;\n",
       "    }\n",
       "</style>\n",
       "<table border=\"1\" class=\"dataframe\">\n",
       "  <thead>\n",
       "    <tr style=\"text-align: right;\">\n",
       "      <th></th>\n",
       "      <th>mean</th>\n",
       "      <th>sd</th>\n",
       "      <th>hdi_2.5%</th>\n",
       "      <th>hdi_97.5%</th>\n",
       "    </tr>\n",
       "  </thead>\n",
       "  <tbody>\n",
       "    <tr>\n",
       "      <th>mu[0]</th>\n",
       "      <td>2191.852</td>\n",
       "      <td>33.860</td>\n",
       "      <td>2125.67</td>\n",
       "      <td>2258.28</td>\n",
       "    </tr>\n",
       "    <tr>\n",
       "      <th>mu[1]</th>\n",
       "      <td>2243.123</td>\n",
       "      <td>33.231</td>\n",
       "      <td>2176.96</td>\n",
       "      <td>2306.74</td>\n",
       "    </tr>\n",
       "    <tr>\n",
       "      <th>mu[2]</th>\n",
       "      <td>3217.276</td>\n",
       "      <td>34.322</td>\n",
       "      <td>3149.89</td>\n",
       "      <td>3282.43</td>\n",
       "    </tr>\n",
       "    <tr>\n",
       "      <th>mu[3]</th>\n",
       "      <td>3524.903</td>\n",
       "      <td>39.332</td>\n",
       "      <td>3446.25</td>\n",
       "      <td>3600.15</td>\n",
       "    </tr>\n",
       "    <tr>\n",
       "      <th>mu[4]</th>\n",
       "      <td>3627.445</td>\n",
       "      <td>41.315</td>\n",
       "      <td>3544.54</td>\n",
       "      <td>3706.60</td>\n",
       "    </tr>\n",
       "    <tr>\n",
       "      <th>...</th>\n",
       "      <td>...</td>\n",
       "      <td>...</td>\n",
       "      <td>...</td>\n",
       "      <td>...</td>\n",
       "    </tr>\n",
       "    <tr>\n",
       "      <th>mu[995]</th>\n",
       "      <td>1422.784</td>\n",
       "      <td>48.302</td>\n",
       "      <td>1328.55</td>\n",
       "      <td>1520.61</td>\n",
       "    </tr>\n",
       "    <tr>\n",
       "      <th>mu[996]</th>\n",
       "      <td>2448.208</td>\n",
       "      <td>31.328</td>\n",
       "      <td>2387.23</td>\n",
       "      <td>2508.18</td>\n",
       "    </tr>\n",
       "    <tr>\n",
       "      <th>mu[997]</th>\n",
       "      <td>2448.208</td>\n",
       "      <td>31.328</td>\n",
       "      <td>2387.23</td>\n",
       "      <td>2508.18</td>\n",
       "    </tr>\n",
       "    <tr>\n",
       "      <th>mu[998]</th>\n",
       "      <td>1627.868</td>\n",
       "      <td>43.764</td>\n",
       "      <td>1543.82</td>\n",
       "      <td>1717.30</td>\n",
       "    </tr>\n",
       "    <tr>\n",
       "      <th>mu[999]</th>\n",
       "      <td>1627.868</td>\n",
       "      <td>43.764</td>\n",
       "      <td>1543.82</td>\n",
       "      <td>1717.30</td>\n",
       "    </tr>\n",
       "  </tbody>\n",
       "</table>\n",
       "<p>1000 rows × 4 columns</p>\n",
       "</div>"
      ],
      "text/plain": [
       "             mean      sd  hdi_2.5%  hdi_97.5%\n",
       "mu[0]    2191.852  33.860   2125.67    2258.28\n",
       "mu[1]    2243.123  33.231   2176.96    2306.74\n",
       "mu[2]    3217.276  34.322   3149.89    3282.43\n",
       "mu[3]    3524.903  39.332   3446.25    3600.15\n",
       "mu[4]    3627.445  41.315   3544.54    3706.60\n",
       "...           ...     ...       ...        ...\n",
       "mu[995]  1422.784  48.302   1328.55    1520.61\n",
       "mu[996]  2448.208  31.328   2387.23    2508.18\n",
       "mu[997]  2448.208  31.328   2387.23    2508.18\n",
       "mu[998]  1627.868  43.764   1543.82    1717.30\n",
       "mu[999]  1627.868  43.764   1543.82    1717.30\n",
       "\n",
       "[1000 rows x 4 columns]"
      ]
     },
     "execution_count": 158,
     "metadata": {},
     "output_type": "execute_result"
    }
   ],
   "source": [
    "d_short=data.head(1000)\n",
    "\n",
    "data_fit = {\n",
    "    \"N\": len(d_short),\n",
    "    \"area\": d_short.c_area.values,\n",
    "    \"price\": d_short.total_price.values\n",
    "}\n",
    "\n",
    "fit = model_fit.sample(data=data_fit,seed=1)\n",
    "alpha_fit = fit.stan_variable('alpha')\n",
    "beta_fit = fit.stan_variable('beta')\n",
    "mu_fit = fit.stan_variable('mu')\n",
    "price_pred = fit.stan_variable('price_pred')\n",
    "az.summary(fit, var_names=['mu'], kind='stats', hdi_prob=.95)"
   ]
  },
  {
   "cell_type": "code",
   "execution_count": 143,
   "metadata": {},
   "outputs": [
    {
     "data": {
      "text/html": [
       "<div>\n",
       "<style scoped>\n",
       "    .dataframe tbody tr th:only-of-type {\n",
       "        vertical-align: middle;\n",
       "    }\n",
       "\n",
       "    .dataframe tbody tr th {\n",
       "        vertical-align: top;\n",
       "    }\n",
       "\n",
       "    .dataframe thead th {\n",
       "        text-align: right;\n",
       "    }\n",
       "</style>\n",
       "<table border=\"1\" class=\"dataframe\">\n",
       "  <thead>\n",
       "    <tr style=\"text-align: right;\">\n",
       "      <th></th>\n",
       "      <th>mean</th>\n",
       "      <th>sd</th>\n",
       "      <th>hdi_3%</th>\n",
       "      <th>hdi_97%</th>\n",
       "    </tr>\n",
       "  </thead>\n",
       "  <tbody>\n",
       "    <tr>\n",
       "      <th>alpha</th>\n",
       "      <td>2645.15</td>\n",
       "      <td>30.54</td>\n",
       "      <td>2589.64</td>\n",
       "      <td>2703.59</td>\n",
       "    </tr>\n",
       "    <tr>\n",
       "      <th>beta</th>\n",
       "      <td>51.27</td>\n",
       "      <td>1.52</td>\n",
       "      <td>48.50</td>\n",
       "      <td>54.14</td>\n",
       "    </tr>\n",
       "    <tr>\n",
       "      <th>sigma</th>\n",
       "      <td>955.10</td>\n",
       "      <td>21.36</td>\n",
       "      <td>916.27</td>\n",
       "      <td>995.94</td>\n",
       "    </tr>\n",
       "  </tbody>\n",
       "</table>\n",
       "</div>"
      ],
      "text/plain": [
       "          mean     sd   hdi_3%  hdi_97%\n",
       "alpha  2645.15  30.54  2589.64  2703.59\n",
       "beta     51.27   1.52    48.50    54.14\n",
       "sigma   955.10  21.36   916.27   995.94"
      ]
     },
     "execution_count": 143,
     "metadata": {},
     "output_type": "execute_result"
    }
   ],
   "source": [
    "import arviz as az\n",
    "az.summary(fit,var_names=['alpha','beta','sigma'],round_to=2,kind='stats')"
   ]
  },
  {
   "cell_type": "code",
   "execution_count": 144,
   "metadata": {},
   "outputs": [
    {
     "data": {
      "image/png": "[encoded data removed]",
      "text/plain": [
       "<Figure size 504x576 with 2 Axes>"
      ]
     },
     "metadata": {
      "needs_background": "light"
     },
     "output_type": "display_data"
    }
   ],
   "source": [
    "fig, axes = plt.subplots(2,1, figsize=(7, 8),sharey=True,sharex=True)\n",
    "ax0=axes[0]\n",
    "for i in range(100):\n",
    "    ax0.plot(d_short.area,\n",
    "              alpha_fit[i]+beta_fit[i]*d_short.c_area,\n",
    "              color=MID,\n",
    "              alpha=0.5,linewidth=0.5)\n",
    "ax0.scatter(d_short.area,d_short.total_price,color='black',alpha=0.1,s=10)\n",
    "ax0.set_ylabel('height [cm]')\n",
    "ax0.set_title('First 20 mean samples for {} of datapoints'.format(len(d_short)))\n",
    "ax1=axes[1]\n",
    "ax1=ribbon_plot(d_short.area.values,mu_fit,ax1,supress_warning=True)\n",
    "ax1.scatter(d_short.area,d_short.total_price,color='black',alpha=0.1,s=10)\n",
    "ax1.set_xlabel('weight [kg]')\n",
    "ax1.set_ylabel('height [cm]')\n",
    "\n",
    "ax1.set_title('Mean uncertainity for {} of datapoints'.format(len(d_short)))\n",
    "fig.tight_layout()\n",
    "plt.show()"
   ]
  },
  {
   "cell_type": "code",
   "execution_count": 151,
   "metadata": {},
   "outputs": [
    {
     "data": {
      "image/png": "[encoded data removed]",
      "text/plain": [
       "<Figure size 504x288 with 1 Axes>"
      ]
     },
     "metadata": {
      "needs_background": "light"
     },
     "output_type": "display_data"
    }
   ],
   "source": [
    "fig, axes = plt.subplots(1, 1, figsize=(7, 4))\n",
    "axes = ribbon_plot(d_short.area.values, price_pred,axes,supress_warning=True)\n",
    "axes.scatter(d_short.area, d_short.total_price,color='black',alpha=0.1,s=10)\n",
    "axes.set_xlabel('weight [kg]')\n",
    "axes.set_ylabel('height [cm]')\n",
    "axes.set_title('Prediction uncertainity for {} of datapoints'.format(len(d_short)))\n",
    "plt.xlim([10, 100])\n",
    "plt.ylim([0, 6000])\n",
    "plt.show()"
   ]
  },
  {
   "cell_type": "markdown",
   "metadata": {},
   "source": [
    "Student (debil)"
   ]
  },
  {
   "cell_type": "code",
   "execution_count": 153,
   "metadata": {},
   "outputs": [
    {
     "name": "stderr",
     "output_type": "stream",
     "text": [
      "INFO:cmdstanpy:compiling stan file C:\\Users\\piotr\\Desktop\\ISZ\\Semestr 1\\data_analytics_2022\\Project\\student_ppc.stan to exe file C:\\Users\\piotr\\Desktop\\ISZ\\Semestr 1\\data_analytics_2022\\Project\\student_ppc.exe\n",
      "INFO:cmdstanpy:compiled model executable: C:\\Users\\piotr\\Desktop\\ISZ\\Semestr 1\\data_analytics_2022\\Project\\student_ppc.exe\n"
     ]
    }
   ],
   "source": [
    "model_fit = CmdStanModel(stan_file=\"student_ppc.stan\")"
   ]
  },
  {
   "cell_type": "code",
   "execution_count": 154,
   "metadata": {},
   "outputs": [
    {
     "name": "stderr",
     "output_type": "stream",
     "text": [
      "INFO:cmdstanpy:CmdStan start processing\n",
      "chain 1 |\u001b[33m          \u001b[0m| 00:00 Status\n",
      "\u001b[A\n",
      "\n",
      "chain 1 |\u001b[33m█▊        \u001b[0m| 00:02 Iteration:  200 / 2000 [ 10%]  (Warmup)\n",
      "\n",
      "chain 1 |\u001b[33m███▋      \u001b[0m| 00:03 Iteration:  600 / 2000 [ 30%]  (Warmup)\n",
      "\n",
      "chain 1 |\u001b[33m████▌     \u001b[0m| 00:03 Iteration:  800 / 2000 [ 40%]  (Warmup)\n",
      "\u001b[A\n",
      "\n",
      "\u001b[A\u001b[A\n",
      "\u001b[A\n",
      "\n",
      "\u001b[A\u001b[A\n",
      "\u001b[A\n",
      "\n",
      "\u001b[A\u001b[A\n",
      "\u001b[A\n",
      "\n",
      "chain 1 |\u001b[34m█████▉    \u001b[0m| 00:04 Iteration: 1001 / 2000 [ 50%]  (Sampling)\n",
      "\u001b[A\n",
      "\u001b[A\n",
      "\u001b[A\n",
      "\n",
      "chain 1 |\u001b[34m██████▎   \u001b[0m| 00:04 Iteration: 1100 / 2000 [ 55%]  (Sampling)\n",
      "\u001b[A\n",
      "\n",
      "chain 1 |\u001b[34m██████▊   \u001b[0m| 00:05 Iteration: 1200 / 2000 [ 60%]  (Sampling)\n",
      "\u001b[A\n",
      "\n",
      "chain 1 |\u001b[34m███████▎  \u001b[0m| 00:06 Iteration: 1300 / 2000 [ 65%]  (Sampling)\n",
      "\u001b[A\n",
      "\n",
      "chain 1 |\u001b[34m███████▋  \u001b[0m| 00:07 Iteration: 1400 / 2000 [ 70%]  (Sampling)\n",
      "\u001b[A\n",
      "\n",
      "chain 1 |\u001b[34m████████▏ \u001b[0m| 00:08 Iteration: 1500 / 2000 [ 75%]  (Sampling)\n",
      "\u001b[A\n",
      "\n",
      "chain 1 |\u001b[34m████████▋ \u001b[0m| 00:08 Iteration: 1600 / 2000 [ 80%]  (Sampling)\n",
      "\u001b[A\n",
      "\n",
      "chain 1 |\u001b[34m█████████ \u001b[0m| 00:09 Iteration: 1700 / 2000 [ 85%]  (Sampling)\n",
      "\u001b[A\n",
      "\n",
      "chain 1 |\u001b[34m█████████▌\u001b[0m| 00:10 Iteration: 1800 / 2000 [ 90%]  (Sampling)\n",
      "\u001b[A\n",
      "\n",
      "chain 1 |\u001b[34m██████████\u001b[0m| 00:10 Iteration: 1900 / 2000 [ 95%]  (Sampling)\n",
      "\u001b[A\n",
      "\n",
      "\u001b[A\u001b[A\n",
      "chain 1 |\u001b[34m██████████\u001b[0m| 00:11 Sampling completed                       \n",
      "chain 2 |\u001b[34m██████████\u001b[0m| 00:11 Sampling completed                       \n",
      "chain 3 |\u001b[34m██████████\u001b[0m| 00:11 Sampling completed                       \n",
      "chain 4 |\u001b[34m██████████\u001b[0m| 00:11 Sampling completed                       "
     ]
    },
    {
     "name": "stdout",
     "output_type": "stream",
     "text": [
      "                                                                                                                                                                                                                                                                                                                                "
     ]
    },
    {
     "name": "stderr",
     "output_type": "stream",
     "text": [
      "\n",
      "INFO:cmdstanpy:CmdStan done processing.\n"
     ]
    },
    {
     "name": "stdout",
     "output_type": "stream",
     "text": [
      "\n"
     ]
    }
   ],
   "source": [
    "data = pd.read_csv('cleaned_data.csv')\n",
    "data['c_area'] = data.area - data.area.mean()\n",
    "d_short=data.head(1000)\n",
    "\n",
    "data_fit = {\n",
    "    \"N\": len(d_short),\n",
    "    \"area\": d_short.c_area.values,\n",
    "    \"price\": d_short.total_price.values\n",
    "}\n",
    "\n",
    "fit = model_fit.sample(data=data_fit,seed=1)\n",
    "alpha_fit = fit.stan_variable('alpha')\n",
    "beta_fit = fit.stan_variable('beta')\n",
    "mu_fit = fit.stan_variable('mu')\n",
    "price_pred = fit.stan_variable('price_pred')"
   ]
  },
  {
   "cell_type": "code",
   "execution_count": 155,
   "metadata": {},
   "outputs": [
    {
     "data": {
      "image/png": "[encoded data removed]",
      "text/plain": [
       "<Figure size 504x288 with 1 Axes>"
      ]
     },
     "metadata": {
      "needs_background": "light"
     },
     "output_type": "display_data"
    }
   ],
   "source": [
    "fig, axes = plt.subplots(1, 1, figsize=(7, 4))\n",
    "axes = ribbon_plot(d_short.area.values, price_pred,axes,supress_warning=True)\n",
    "axes.scatter(d_short.area, d_short.total_price,color='black',alpha=0.1,s=10)\n",
    "axes.set_xlabel('weight [kg]')\n",
    "axes.set_ylabel('height [cm]')\n",
    "axes.set_title('Prediction uncertainity for {} of datapoints'.format(len(d_short)))\n",
    "plt.xlim([10, 100])\n",
    "plt.ylim([0, 6000])\n",
    "plt.show()"
   ]
  },
  {
   "cell_type": "code",
   "execution_count": 156,
   "metadata": {},
   "outputs": [
    {
     "data": {
      "text/html": [
       "<div>\n",
       "<style scoped>\n",
       "    .dataframe tbody tr th:only-of-type {\n",
       "        vertical-align: middle;\n",
       "    }\n",
       "\n",
       "    .dataframe tbody tr th {\n",
       "        vertical-align: top;\n",
       "    }\n",
       "\n",
       "    .dataframe thead th {\n",
       "        text-align: right;\n",
       "    }\n",
       "</style>\n",
       "<table border=\"1\" class=\"dataframe\">\n",
       "  <thead>\n",
       "    <tr style=\"text-align: right;\">\n",
       "      <th></th>\n",
       "      <th>mean</th>\n",
       "      <th>sd</th>\n",
       "      <th>hdi_2.5%</th>\n",
       "      <th>hdi_97.5%</th>\n",
       "    </tr>\n",
       "  </thead>\n",
       "  <tbody>\n",
       "    <tr>\n",
       "      <th>mu[0]</th>\n",
       "      <td>2209.148</td>\n",
       "      <td>13.946</td>\n",
       "      <td>2181.21</td>\n",
       "      <td>2235.67</td>\n",
       "    </tr>\n",
       "    <tr>\n",
       "      <th>mu[1]</th>\n",
       "      <td>2244.097</td>\n",
       "      <td>13.696</td>\n",
       "      <td>2218.16</td>\n",
       "      <td>2271.75</td>\n",
       "    </tr>\n",
       "    <tr>\n",
       "      <th>mu[2]</th>\n",
       "      <td>2908.131</td>\n",
       "      <td>20.669</td>\n",
       "      <td>2864.64</td>\n",
       "      <td>2946.09</td>\n",
       "    </tr>\n",
       "    <tr>\n",
       "      <th>mu[3]</th>\n",
       "      <td>3117.826</td>\n",
       "      <td>25.483</td>\n",
       "      <td>3068.01</td>\n",
       "      <td>3168.54</td>\n",
       "    </tr>\n",
       "    <tr>\n",
       "      <th>mu[4]</th>\n",
       "      <td>3187.725</td>\n",
       "      <td>27.186</td>\n",
       "      <td>3133.61</td>\n",
       "      <td>3240.74</td>\n",
       "    </tr>\n",
       "    <tr>\n",
       "      <th>...</th>\n",
       "      <td>...</td>\n",
       "      <td>...</td>\n",
       "      <td>...</td>\n",
       "      <td>...</td>\n",
       "    </tr>\n",
       "    <tr>\n",
       "      <th>mu[995]</th>\n",
       "      <td>1684.910</td>\n",
       "      <td>23.082</td>\n",
       "      <td>1639.43</td>\n",
       "      <td>1729.54</td>\n",
       "    </tr>\n",
       "    <tr>\n",
       "      <th>mu[996]</th>\n",
       "      <td>2383.894</td>\n",
       "      <td>13.394</td>\n",
       "      <td>2357.46</td>\n",
       "      <td>2409.53</td>\n",
       "    </tr>\n",
       "    <tr>\n",
       "      <th>mu[997]</th>\n",
       "      <td>2383.894</td>\n",
       "      <td>13.394</td>\n",
       "      <td>2357.46</td>\n",
       "      <td>2409.53</td>\n",
       "    </tr>\n",
       "    <tr>\n",
       "      <th>mu[998]</th>\n",
       "      <td>1824.707</td>\n",
       "      <td>19.990</td>\n",
       "      <td>1786.42</td>\n",
       "      <td>1864.34</td>\n",
       "    </tr>\n",
       "    <tr>\n",
       "      <th>mu[999]</th>\n",
       "      <td>1824.707</td>\n",
       "      <td>19.990</td>\n",
       "      <td>1786.42</td>\n",
       "      <td>1864.34</td>\n",
       "    </tr>\n",
       "  </tbody>\n",
       "</table>\n",
       "<p>1000 rows × 4 columns</p>\n",
       "</div>"
      ],
      "text/plain": [
       "             mean      sd  hdi_2.5%  hdi_97.5%\n",
       "mu[0]    2209.148  13.946   2181.21    2235.67\n",
       "mu[1]    2244.097  13.696   2218.16    2271.75\n",
       "mu[2]    2908.131  20.669   2864.64    2946.09\n",
       "mu[3]    3117.826  25.483   3068.01    3168.54\n",
       "mu[4]    3187.725  27.186   3133.61    3240.74\n",
       "...           ...     ...       ...        ...\n",
       "mu[995]  1684.910  23.082   1639.43    1729.54\n",
       "mu[996]  2383.894  13.394   2357.46    2409.53\n",
       "mu[997]  2383.894  13.394   2357.46    2409.53\n",
       "mu[998]  1824.707  19.990   1786.42    1864.34\n",
       "mu[999]  1824.707  19.990   1786.42    1864.34\n",
       "\n",
       "[1000 rows x 4 columns]"
      ]
     },
     "execution_count": 156,
     "metadata": {},
     "output_type": "execute_result"
    }
   ],
   "source": [
    "az.summary(fit, var_names=['mu'], kind='stats', hdi_prob=.95)"
   ]
  }
 ],
 "metadata": {
  "interpreter": {
   "hash": "a4dd6d1262418fb5ba5186a9881067ae59d2d856a4683106776c6f088c4d6494"
  },
  "kernelspec": {
   "display_name": "Python 3.9.0 ('data_env')",
   "language": "python",
   "name": "python3"
  },
  "language_info": {
   "codemirror_mode": {
    "name": "ipython",
    "version": 3
   },
   "file_extension": ".py",
   "mimetype": "text/x-python",
   "name": "python",
   "nbconvert_exporter": "python",
   "pygments_lexer": "ipython3",
   "version": "3.9.0"
  },
  "orig_nbformat": 4
 },
 "nbformat": 4,
 "nbformat_minor": 2
}
